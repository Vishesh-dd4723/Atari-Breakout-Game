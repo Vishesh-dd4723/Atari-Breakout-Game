{
 "cells": [
  {
   "cell_type": "markdown",
   "metadata": {
    "id": "453291e8"
   },
   "source": [
    "# For G Colab"
   ]
  },
  {
   "cell_type": "code",
   "execution_count": null,
   "metadata": {
    "id": "xZUEwDZZrkDK"
   },
   "outputs": [],
   "source": [
    "from google.colab import drive\n",
    "drive.mount('/content/drive')\n",
    "path = '/content/drive/MyDrive/RL/'"
   ]
  },
  {
   "cell_type": "code",
   "execution_count": 5,
   "metadata": {
    "colab": {
     "base_uri": "https://localhost:8080/"
    },
    "executionInfo": {
     "elapsed": 32194,
     "status": "ok",
     "timestamp": 1650430609224,
     "user": {
      "displayName": "Vishesh Bindal",
      "userId": "07026684260814533301"
     },
     "user_tz": -330
    },
    "id": "IVUPiZxNymVO",
    "outputId": "fe495e65-d5d6-4de1-d44f-da0298ee92d1"
   },
   "outputs": [
    {
     "name": "stdout",
     "output_type": "stream",
     "text": [
      "Requirement already satisfied: gym[accept-rom-license,atari]==0.21.0 in c:\\users\\binda\\anaconda3\\lib\\site-packages (0.21.0)\n",
      "Requirement already satisfied: cloudpickle>=1.2.0 in c:\\users\\binda\\anaconda3\\lib\\site-packages (from gym[accept-rom-license,atari]==0.21.0) (2.0.0)\n",
      "Requirement already satisfied: numpy>=1.18.0 in c:\\users\\binda\\anaconda3\\lib\\site-packages (from gym[accept-rom-license,atari]==0.21.0) (1.22.1)\n",
      "Requirement already satisfied: autorom[accept-rom-license]~=0.4.2 in c:\\users\\binda\\anaconda3\\lib\\site-packages (from gym[accept-rom-license,atari]==0.21.0) (0.4.2)\n",
      "Requirement already satisfied: ale-py~=0.7.1 in c:\\users\\binda\\anaconda3\\lib\\site-packages (from gym[accept-rom-license,atari]==0.21.0) (0.7.4)\n",
      "Requirement already satisfied: importlib-metadata>=4.10.0 in c:\\users\\binda\\anaconda3\\lib\\site-packages (from ale-py~=0.7.1->gym[accept-rom-license,atari]==0.21.0) (4.10.1)\n",
      "Requirement already satisfied: importlib-resources in c:\\users\\binda\\anaconda3\\lib\\site-packages (from ale-py~=0.7.1->gym[accept-rom-license,atari]==0.21.0) (5.7.0)\n",
      "Requirement already satisfied: click in c:\\users\\binda\\anaconda3\\lib\\site-packages (from autorom[accept-rom-license]~=0.4.2->gym[accept-rom-license,atari]==0.21.0) (8.0.3)\n",
      "Requirement already satisfied: tqdm in c:\\users\\binda\\anaconda3\\lib\\site-packages (from autorom[accept-rom-license]~=0.4.2->gym[accept-rom-license,atari]==0.21.0) (4.62.3)\n",
      "Requirement already satisfied: requests in c:\\users\\binda\\anaconda3\\lib\\site-packages (from autorom[accept-rom-license]~=0.4.2->gym[accept-rom-license,atari]==0.21.0) (2.27.1)\n",
      "Requirement already satisfied: AutoROM.accept-rom-license in c:\\users\\binda\\anaconda3\\lib\\site-packages (from autorom[accept-rom-license]~=0.4.2->gym[accept-rom-license,atari]==0.21.0) (0.4.2)\n",
      "Requirement already satisfied: zipp>=0.5 in c:\\users\\binda\\anaconda3\\lib\\site-packages (from importlib-metadata>=4.10.0->ale-py~=0.7.1->gym[accept-rom-license,atari]==0.21.0) (3.7.0)\n",
      "Requirement already satisfied: colorama in c:\\users\\binda\\anaconda3\\lib\\site-packages (from click->autorom[accept-rom-license]~=0.4.2->gym[accept-rom-license,atari]==0.21.0) (0.4.4)\n",
      "Requirement already satisfied: certifi>=2017.4.17 in c:\\users\\binda\\anaconda3\\lib\\site-packages (from requests->autorom[accept-rom-license]~=0.4.2->gym[accept-rom-license,atari]==0.21.0) (2021.10.8)\n",
      "Requirement already satisfied: idna<4,>=2.5 in c:\\users\\binda\\anaconda3\\lib\\site-packages (from requests->autorom[accept-rom-license]~=0.4.2->gym[accept-rom-license,atari]==0.21.0) (3.3)\n",
      "Requirement already satisfied: urllib3<1.27,>=1.21.1 in c:\\users\\binda\\anaconda3\\lib\\site-packages (from requests->autorom[accept-rom-license]~=0.4.2->gym[accept-rom-license,atari]==0.21.0) (1.26.8)\n",
      "Requirement already satisfied: charset-normalizer~=2.0.0 in c:\\users\\binda\\anaconda3\\lib\\site-packages (from requests->autorom[accept-rom-license]~=0.4.2->gym[accept-rom-license,atari]==0.21.0) (2.0.11)\n",
      "Note: you may need to restart the kernel to use updated packages.\n"
     ]
    }
   ],
   "source": [
    "%pip install -U gym[atari,accept-rom-license]==0.21.0\n",
    "# %pip install tensorflow-gpu"
   ]
  },
  {
   "cell_type": "markdown",
   "metadata": {
    "id": "6ceed60f"
   },
   "source": [
    "# Main"
   ]
  },
  {
   "cell_type": "code",
   "execution_count": 6,
   "metadata": {
    "executionInfo": {
     "elapsed": 1309,
     "status": "ok",
     "timestamp": 1650430732809,
     "user": {
      "displayName": "Vishesh Bindal",
      "userId": "07026684260814533301"
     },
     "user_tz": -330
    },
    "id": "bc27d913"
   },
   "outputs": [
    {
     "ename": "ImportError",
     "evalue": "\n\nIMPORTANT: PLEASE READ THIS FOR ADVICE ON HOW TO SOLVE THIS ISSUE!\n\nImporting the numpy C-extensions failed. This error can happen for\nmany reasons, often due to issues with your setup or how NumPy was\ninstalled.\n\nWe have compiled some common reasons and troubleshooting tips at:\n\n    https://numpy.org/devdocs/user/troubleshooting-importerror.html\n\nPlease note and check the following:\n\n  * The Python version is: Python3.8 from \"C:\\Users\\binda\\anaconda3\\python.exe\"\n  * The NumPy version is: \"1.21.2\"\n\nand make sure that they are the versions you expect.\nPlease carefully study the documentation linked above for further help.\n\nOriginal error was: DLL load failed while importing _multiarray_umath: The specified module could not be found.\n",
     "output_type": "error",
     "traceback": [
      "\u001b[1;31m---------------------------------------------------------------------------\u001b[0m",
      "\u001b[1;31mImportError\u001b[0m                               Traceback (most recent call last)",
      "\u001b[1;32m~\\anaconda3\\lib\\site-packages\\numpy\\core\\__init__.py\u001b[0m in \u001b[0;36m<module>\u001b[1;34m\u001b[0m\n\u001b[0;32m     21\u001b[0m \u001b[1;32mtry\u001b[0m\u001b[1;33m:\u001b[0m\u001b[1;33m\u001b[0m\u001b[1;33m\u001b[0m\u001b[0m\n\u001b[1;32m---> 22\u001b[1;33m     \u001b[1;32mfrom\u001b[0m \u001b[1;33m.\u001b[0m \u001b[1;32mimport\u001b[0m \u001b[0mmultiarray\u001b[0m\u001b[1;33m\u001b[0m\u001b[1;33m\u001b[0m\u001b[0m\n\u001b[0m\u001b[0;32m     23\u001b[0m \u001b[1;32mexcept\u001b[0m \u001b[0mImportError\u001b[0m \u001b[1;32mas\u001b[0m \u001b[0mexc\u001b[0m\u001b[1;33m:\u001b[0m\u001b[1;33m\u001b[0m\u001b[1;33m\u001b[0m\u001b[0m\n",
      "\u001b[1;32m~\\anaconda3\\lib\\site-packages\\numpy\\core\\multiarray.py\u001b[0m in \u001b[0;36m<module>\u001b[1;34m\u001b[0m\n\u001b[0;32m     11\u001b[0m \u001b[1;33m\u001b[0m\u001b[0m\n\u001b[1;32m---> 12\u001b[1;33m \u001b[1;32mfrom\u001b[0m \u001b[1;33m.\u001b[0m \u001b[1;32mimport\u001b[0m \u001b[0moverrides\u001b[0m\u001b[1;33m\u001b[0m\u001b[1;33m\u001b[0m\u001b[0m\n\u001b[0m\u001b[0;32m     13\u001b[0m \u001b[1;32mfrom\u001b[0m \u001b[1;33m.\u001b[0m \u001b[1;32mimport\u001b[0m \u001b[0m_multiarray_umath\u001b[0m\u001b[1;33m\u001b[0m\u001b[1;33m\u001b[0m\u001b[0m\n",
      "\u001b[1;32m~\\anaconda3\\lib\\site-packages\\numpy\\core\\overrides.py\u001b[0m in \u001b[0;36m<module>\u001b[1;34m\u001b[0m\n\u001b[0;32m      6\u001b[0m \u001b[1;33m\u001b[0m\u001b[0m\n\u001b[1;32m----> 7\u001b[1;33m from numpy.core._multiarray_umath import (\n\u001b[0m\u001b[0;32m      8\u001b[0m     add_docstring, implement_array_function, _get_implementing_args)\n",
      "\u001b[1;31mImportError\u001b[0m: DLL load failed while importing _multiarray_umath: The specified module could not be found.",
      "\nDuring handling of the above exception, another exception occurred:\n",
      "\u001b[1;31mImportError\u001b[0m                               Traceback (most recent call last)",
      "\u001b[1;32m~\\AppData\\Local\\Temp\\ipykernel_14796\\4119943424.py\u001b[0m in \u001b[0;36m<module>\u001b[1;34m\u001b[0m\n\u001b[1;32m----> 1\u001b[1;33m \u001b[1;32mimport\u001b[0m \u001b[0mgym\u001b[0m\u001b[1;33m\u001b[0m\u001b[1;33m\u001b[0m\u001b[0m\n\u001b[0m\u001b[0;32m      2\u001b[0m \u001b[1;31m# import numpy as np\u001b[0m\u001b[1;33m\u001b[0m\u001b[1;33m\u001b[0m\u001b[1;33m\u001b[0m\u001b[0m\n\u001b[0;32m      3\u001b[0m \u001b[1;32mimport\u001b[0m \u001b[0mmatplotlib\u001b[0m\u001b[1;33m.\u001b[0m\u001b[0mpyplot\u001b[0m \u001b[1;32mas\u001b[0m \u001b[0mplt\u001b[0m\u001b[1;33m\u001b[0m\u001b[1;33m\u001b[0m\u001b[0m\n\u001b[0;32m      4\u001b[0m \u001b[1;32mimport\u001b[0m \u001b[0mcv2\u001b[0m\u001b[1;33m\u001b[0m\u001b[1;33m\u001b[0m\u001b[0m\n\u001b[0;32m      5\u001b[0m \u001b[1;32mimport\u001b[0m \u001b[0mpandas\u001b[0m \u001b[1;32mas\u001b[0m \u001b[0mpd\u001b[0m\u001b[1;33m\u001b[0m\u001b[1;33m\u001b[0m\u001b[0m\n",
      "\u001b[1;32m~\\anaconda3\\lib\\site-packages\\gym\\__init__.py\u001b[0m in \u001b[0;36m<module>\u001b[1;34m\u001b[0m\n\u001b[0;32m     10\u001b[0m     \u001b[0mRewardWrapper\u001b[0m\u001b[1;33m,\u001b[0m\u001b[1;33m\u001b[0m\u001b[1;33m\u001b[0m\u001b[0m\n\u001b[0;32m     11\u001b[0m )\n\u001b[1;32m---> 12\u001b[1;33m \u001b[1;32mfrom\u001b[0m \u001b[0mgym\u001b[0m\u001b[1;33m.\u001b[0m\u001b[0mspaces\u001b[0m \u001b[1;32mimport\u001b[0m \u001b[0mSpace\u001b[0m\u001b[1;33m\u001b[0m\u001b[1;33m\u001b[0m\u001b[0m\n\u001b[0m\u001b[0;32m     13\u001b[0m \u001b[1;32mfrom\u001b[0m \u001b[0mgym\u001b[0m\u001b[1;33m.\u001b[0m\u001b[0menvs\u001b[0m \u001b[1;32mimport\u001b[0m \u001b[0mmake\u001b[0m\u001b[1;33m,\u001b[0m \u001b[0mspec\u001b[0m\u001b[1;33m,\u001b[0m \u001b[0mregister\u001b[0m\u001b[1;33m\u001b[0m\u001b[1;33m\u001b[0m\u001b[0m\n\u001b[0;32m     14\u001b[0m \u001b[1;32mfrom\u001b[0m \u001b[0mgym\u001b[0m \u001b[1;32mimport\u001b[0m \u001b[0mlogger\u001b[0m\u001b[1;33m\u001b[0m\u001b[1;33m\u001b[0m\u001b[0m\n",
      "\u001b[1;32m~\\anaconda3\\lib\\site-packages\\gym\\spaces\\__init__.py\u001b[0m in \u001b[0;36m<module>\u001b[1;34m\u001b[0m\n\u001b[1;32m----> 1\u001b[1;33m \u001b[1;32mfrom\u001b[0m \u001b[0mgym\u001b[0m\u001b[1;33m.\u001b[0m\u001b[0mspaces\u001b[0m\u001b[1;33m.\u001b[0m\u001b[0mspace\u001b[0m \u001b[1;32mimport\u001b[0m \u001b[0mSpace\u001b[0m\u001b[1;33m\u001b[0m\u001b[1;33m\u001b[0m\u001b[0m\n\u001b[0m\u001b[0;32m      2\u001b[0m \u001b[1;32mfrom\u001b[0m \u001b[0mgym\u001b[0m\u001b[1;33m.\u001b[0m\u001b[0mspaces\u001b[0m\u001b[1;33m.\u001b[0m\u001b[0mbox\u001b[0m \u001b[1;32mimport\u001b[0m \u001b[0mBox\u001b[0m\u001b[1;33m\u001b[0m\u001b[1;33m\u001b[0m\u001b[0m\n\u001b[0;32m      3\u001b[0m \u001b[1;32mfrom\u001b[0m \u001b[0mgym\u001b[0m\u001b[1;33m.\u001b[0m\u001b[0mspaces\u001b[0m\u001b[1;33m.\u001b[0m\u001b[0mdiscrete\u001b[0m \u001b[1;32mimport\u001b[0m \u001b[0mDiscrete\u001b[0m\u001b[1;33m\u001b[0m\u001b[1;33m\u001b[0m\u001b[0m\n\u001b[0;32m      4\u001b[0m \u001b[1;32mfrom\u001b[0m \u001b[0mgym\u001b[0m\u001b[1;33m.\u001b[0m\u001b[0mspaces\u001b[0m\u001b[1;33m.\u001b[0m\u001b[0mmulti_discrete\u001b[0m \u001b[1;32mimport\u001b[0m \u001b[0mMultiDiscrete\u001b[0m\u001b[1;33m\u001b[0m\u001b[1;33m\u001b[0m\u001b[0m\n\u001b[0;32m      5\u001b[0m \u001b[1;32mfrom\u001b[0m \u001b[0mgym\u001b[0m\u001b[1;33m.\u001b[0m\u001b[0mspaces\u001b[0m\u001b[1;33m.\u001b[0m\u001b[0mmulti_binary\u001b[0m \u001b[1;32mimport\u001b[0m \u001b[0mMultiBinary\u001b[0m\u001b[1;33m\u001b[0m\u001b[1;33m\u001b[0m\u001b[0m\n",
      "\u001b[1;32m~\\anaconda3\\lib\\site-packages\\gym\\spaces\\space.py\u001b[0m in \u001b[0;36m<module>\u001b[1;34m\u001b[0m\n\u001b[1;32m----> 1\u001b[1;33m \u001b[1;32mfrom\u001b[0m \u001b[0mgym\u001b[0m\u001b[1;33m.\u001b[0m\u001b[0mutils\u001b[0m \u001b[1;32mimport\u001b[0m \u001b[0mseeding\u001b[0m\u001b[1;33m\u001b[0m\u001b[1;33m\u001b[0m\u001b[0m\n\u001b[0m\u001b[0;32m      2\u001b[0m \u001b[1;33m\u001b[0m\u001b[0m\n\u001b[0;32m      3\u001b[0m \u001b[1;33m\u001b[0m\u001b[0m\n\u001b[0;32m      4\u001b[0m \u001b[1;32mclass\u001b[0m \u001b[0mSpace\u001b[0m\u001b[1;33m(\u001b[0m\u001b[0mobject\u001b[0m\u001b[1;33m)\u001b[0m\u001b[1;33m:\u001b[0m\u001b[1;33m\u001b[0m\u001b[1;33m\u001b[0m\u001b[0m\n\u001b[0;32m      5\u001b[0m     \"\"\"Defines the observation and action spaces, so you can write generic\n",
      "\u001b[1;32m~\\anaconda3\\lib\\site-packages\\gym\\utils\\seeding.py\u001b[0m in \u001b[0;36m<module>\u001b[1;34m\u001b[0m\n\u001b[0;32m      1\u001b[0m \u001b[1;32mimport\u001b[0m \u001b[0mhashlib\u001b[0m\u001b[1;33m\u001b[0m\u001b[1;33m\u001b[0m\u001b[0m\n\u001b[1;32m----> 2\u001b[1;33m \u001b[1;32mimport\u001b[0m \u001b[0mnumpy\u001b[0m \u001b[1;32mas\u001b[0m \u001b[0mnp\u001b[0m\u001b[1;33m\u001b[0m\u001b[1;33m\u001b[0m\u001b[0m\n\u001b[0m\u001b[0;32m      3\u001b[0m \u001b[1;32mimport\u001b[0m \u001b[0mos\u001b[0m\u001b[1;33m\u001b[0m\u001b[1;33m\u001b[0m\u001b[0m\n\u001b[0;32m      4\u001b[0m \u001b[1;32mimport\u001b[0m \u001b[0mrandom\u001b[0m \u001b[1;32mas\u001b[0m \u001b[0m_random\u001b[0m\u001b[1;33m\u001b[0m\u001b[1;33m\u001b[0m\u001b[0m\n\u001b[0;32m      5\u001b[0m \u001b[1;32mimport\u001b[0m \u001b[0mstruct\u001b[0m\u001b[1;33m\u001b[0m\u001b[1;33m\u001b[0m\u001b[0m\n",
      "\u001b[1;32m~\\anaconda3\\lib\\site-packages\\numpy\\__init__.py\u001b[0m in \u001b[0;36m<module>\u001b[1;34m\u001b[0m\n\u001b[0;32m    148\u001b[0m     \u001b[1;32mfrom\u001b[0m \u001b[1;33m.\u001b[0m \u001b[1;32mimport\u001b[0m \u001b[0m_distributor_init\u001b[0m\u001b[1;33m\u001b[0m\u001b[1;33m\u001b[0m\u001b[0m\n\u001b[0;32m    149\u001b[0m \u001b[1;33m\u001b[0m\u001b[0m\n\u001b[1;32m--> 150\u001b[1;33m     \u001b[1;32mfrom\u001b[0m \u001b[1;33m.\u001b[0m \u001b[1;32mimport\u001b[0m \u001b[0mcore\u001b[0m\u001b[1;33m\u001b[0m\u001b[1;33m\u001b[0m\u001b[0m\n\u001b[0m\u001b[0;32m    151\u001b[0m     \u001b[1;32mfrom\u001b[0m \u001b[1;33m.\u001b[0m\u001b[0mcore\u001b[0m \u001b[1;32mimport\u001b[0m \u001b[1;33m*\u001b[0m\u001b[1;33m\u001b[0m\u001b[1;33m\u001b[0m\u001b[0m\n\u001b[0;32m    152\u001b[0m     \u001b[1;32mfrom\u001b[0m \u001b[1;33m.\u001b[0m \u001b[1;32mimport\u001b[0m \u001b[0mcompat\u001b[0m\u001b[1;33m\u001b[0m\u001b[1;33m\u001b[0m\u001b[0m\n",
      "\u001b[1;32m~\\anaconda3\\lib\\site-packages\\numpy\\core\\__init__.py\u001b[0m in \u001b[0;36m<module>\u001b[1;34m\u001b[0m\n\u001b[0;32m     46\u001b[0m \"\"\" % (sys.version_info[0], sys.version_info[1], sys.executable,\n\u001b[0;32m     47\u001b[0m         __version__, exc)\n\u001b[1;32m---> 48\u001b[1;33m     \u001b[1;32mraise\u001b[0m \u001b[0mImportError\u001b[0m\u001b[1;33m(\u001b[0m\u001b[0mmsg\u001b[0m\u001b[1;33m)\u001b[0m\u001b[1;33m\u001b[0m\u001b[1;33m\u001b[0m\u001b[0m\n\u001b[0m\u001b[0;32m     49\u001b[0m \u001b[1;32mfinally\u001b[0m\u001b[1;33m:\u001b[0m\u001b[1;33m\u001b[0m\u001b[1;33m\u001b[0m\u001b[0m\n\u001b[0;32m     50\u001b[0m     \u001b[1;32mfor\u001b[0m \u001b[0menvkey\u001b[0m \u001b[1;32min\u001b[0m \u001b[0menv_added\u001b[0m\u001b[1;33m:\u001b[0m\u001b[1;33m\u001b[0m\u001b[1;33m\u001b[0m\u001b[0m\n",
      "\u001b[1;31mImportError\u001b[0m: \n\nIMPORTANT: PLEASE READ THIS FOR ADVICE ON HOW TO SOLVE THIS ISSUE!\n\nImporting the numpy C-extensions failed. This error can happen for\nmany reasons, often due to issues with your setup or how NumPy was\ninstalled.\n\nWe have compiled some common reasons and troubleshooting tips at:\n\n    https://numpy.org/devdocs/user/troubleshooting-importerror.html\n\nPlease note and check the following:\n\n  * The Python version is: Python3.8 from \"C:\\Users\\binda\\anaconda3\\python.exe\"\n  * The NumPy version is: \"1.21.2\"\n\nand make sure that they are the versions you expect.\nPlease carefully study the documentation linked above for further help.\n\nOriginal error was: DLL load failed while importing _multiarray_umath: The specified module could not be found.\n"
     ]
    }
   ],
   "source": [
    "import gym\n",
    "# import numpy as np\n",
    "import matplotlib.pyplot as plt\n",
    "import cv2\n",
    "import pandas as pd\n",
    "from IPython import display\n",
    "from collections import deque\n",
    "import warnings\n",
    "warnings.filterwarnings(\"ignore\")"
   ]
  },
  {
   "cell_type": "code",
   "execution_count": 2,
   "metadata": {
    "executionInfo": {
     "elapsed": 7,
     "status": "ok",
     "timestamp": 1650430732810,
     "user": {
      "displayName": "Vishesh Bindal",
      "userId": "07026684260814533301"
     },
     "user_tz": -330
    },
    "id": "846587dc"
   },
   "outputs": [
    {
     "ename": "NameError",
     "evalue": "name 'gym' is not defined",
     "output_type": "error",
     "traceback": [
      "\u001b[1;31m---------------------------------------------------------------------------\u001b[0m",
      "\u001b[1;31mNameError\u001b[0m                                 Traceback (most recent call last)",
      "\u001b[1;32m~\\AppData\\Local\\Temp\\ipykernel_14796\\2971875816.py\u001b[0m in \u001b[0;36m<module>\u001b[1;34m\u001b[0m\n\u001b[1;32m----> 1\u001b[1;33m \u001b[0menv\u001b[0m \u001b[1;33m=\u001b[0m \u001b[0mgym\u001b[0m\u001b[1;33m.\u001b[0m\u001b[0mmake\u001b[0m\u001b[1;33m(\u001b[0m\u001b[1;34m'Breakout-v0'\u001b[0m\u001b[1;33m)\u001b[0m\u001b[1;33m\u001b[0m\u001b[1;33m\u001b[0m\u001b[0m\n\u001b[0m",
      "\u001b[1;31mNameError\u001b[0m: name 'gym' is not defined"
     ]
    }
   ],
   "source": [
    "env = gym.make('Breakout-v0')"
   ]
  },
  {
   "cell_type": "markdown",
   "metadata": {
    "id": "7889fc8f"
   },
   "source": [
    "## Simulation"
   ]
  },
  {
   "cell_type": "code",
   "execution_count": null,
   "metadata": {
    "id": "76be3f90",
    "outputId": "33dc30f8-f9ee-4f2e-d630-0e38b09ffc13",
    "scrolled": true
   },
   "outputs": [
    {
     "data": {
      "image/png": "[encoded data removed]",
      "text/plain": [
       "<Figure size 432x288 with 1 Axes>"
      ]
     },
     "metadata": {},
     "output_type": "display_data"
    }
   ],
   "source": [
    "env.reset()\n",
    "img = plt.imshow(env.render(mode='rgb_array')) # only call this once\n",
    "score = 0\n",
    "done = False\n",
    "i = 0\n",
    "while i < 1000 and not done:\n",
    "    img.set_data(env.render(mode='rgb_array')) # just update the data\n",
    "    display.display(plt.gcf())\n",
    "    display.clear_output(wait=True)\n",
    "    action = env.action_space.sample()\n",
    "    obs, x, done, _ = env.step(action)\n",
    "    score += x\n",
    "    i += 1"
   ]
  },
  {
   "cell_type": "markdown",
   "metadata": {
    "id": "6f33641a"
   },
   "source": [
    "## Random Data Generation"
   ]
  },
  {
   "cell_type": "code",
   "execution_count": 3,
   "metadata": {
    "id": "492eed45"
   },
   "outputs": [],
   "source": [
    "def image_compressor(img, new_size=(75, 80)):\n",
    "\n",
    "    img_reduced = img[30:195, 5:155,:]\n",
    "    img_grey = cv2.cvtColor(img_reduced, cv2.COLOR_BGR2GRAY)\n",
    "    img_compressed = cv2.resize(img_grey, new_size)\n",
    "\n",
    "    return img_compressed"
   ]
  },
  {
   "cell_type": "code",
   "execution_count": 4,
   "metadata": {
    "id": "394d86a2"
   },
   "outputs": [],
   "source": [
    "cols = ['Obs'+str(i)+'_'+str(m)+'_'+str(n) for i in range(2) for m in range(80) for n in range(75)]\n",
    "cols.extend(['action', 'reward'])"
   ]
  },
  {
   "cell_type": "code",
   "execution_count": 5,
   "metadata": {
    "id": "58a34c49"
   },
   "outputs": [],
   "source": [
    "def list_to_pdSeries(keys, values):\n",
    "    dic = {}\n",
    "    for i in range(len(keys)):\n",
    "        dic[keys[i]] = values[i]\n",
    "    return pd.Series(dic)"
   ]
  },
  {
   "cell_type": "code",
   "execution_count": 6,
   "metadata": {
    "id": "496ad671",
    "scrolled": true
   },
   "outputs": [],
   "source": [
    "episodes = 1000\n",
    "life_memory = []\n",
    "i_episode = 0\n",
    "discount_factor = 0.9\n",
    "stepper = True\n",
    "\n",
    "while i_episode < episodes:\n",
    "    episodic_memory = []\n",
    "    done = False\n",
    "    obss = deque(maxlen=2)\n",
    "    obs = env.reset()\n",
    "    ep_reward = 0\n",
    "    prev_reward = 0\n",
    "    for i in range(10):\n",
    "        obss.append(image_compressor(obs))\n",
    "        action = env.action_space.sample()\n",
    "        obs, _, _, _ = env.step(action)\n",
    "        obss.append(image_compressor(obs))\n",
    "    \n",
    "    while not done:\n",
    "        step_memory = []\n",
    "        stepper = not stepper\n",
    "        action = env.action_space.sample()\n",
    "        obs, reward, done, info = env.step(action)\n",
    "        ep_reward = (reward - prev_reward)*10 + ep_reward*discount_factor\n",
    "        if stepper:\n",
    "            continue\n",
    "        step_memory.extend(obss[0].flatten())\n",
    "        step_memory.extend(obss[1].flatten())\n",
    "        step_memory.extend([action, ep_reward])\n",
    "        episodic_memory.append(list_to_pdSeries(keys=cols, values=step_memory))\n",
    "        obss.append(image_compressor(obs))\n",
    "        prev_reward = reward\n",
    "\n",
    "    life_memory.extend(episodic_memory)\n",
    "    i_episode += 1\n",
    "\n",
    "memory_df = pd.concat(life_memory, axis=1).T"
   ]
  },
  {
   "cell_type": "code",
   "execution_count": null,
   "metadata": {
    "id": "7b67001f",
    "outputId": "c09434f3-6621-4812-b5fb-cbb2ee205979"
   },
   "outputs": [
    {
     "data": {
      "text/plain": [
       "(2347, 12002)"
      ]
     },
     "metadata": {},
     "output_type": "display_data"
    }
   ],
   "source": [
    "memory_df.shape"
   ]
  },
  {
   "cell_type": "code",
   "execution_count": null,
   "metadata": {
    "id": "c32bb4bb"
   },
   "outputs": [],
   "source": [
    "memory_df.to_csv('random_data.csv', index=False)"
   ]
  },
  {
   "cell_type": "code",
   "execution_count": null,
   "metadata": {},
   "outputs": [],
   "source": [
    "memory_df['reward'].sum()"
   ]
  },
  {
   "cell_type": "markdown",
   "metadata": {
    "id": "eTzmEeQIUV5V"
   },
   "source": [
    "## Training"
   ]
  },
  {
   "cell_type": "code",
   "execution_count": 1,
   "metadata": {
    "executionInfo": {
     "elapsed": 2884,
     "status": "ok",
     "timestamp": 1650430748236,
     "user": {
      "displayName": "Vishesh Bindal",
      "userId": "07026684260814533301"
     },
     "user_tz": -330
    },
    "id": "IKgU4PGlUV5W"
   },
   "outputs": [],
   "source": [
    "from models import Model1\n",
    "from helper_funcs import *\n",
    "from tensorflow.keras import losses, optimizers, metrics\n",
    "from sklearn.model_selection import train_test_split"
   ]
  },
  {
   "cell_type": "code",
   "execution_count": 2,
   "metadata": {
    "id": "XFZGIAXEUV5Z",
    "outputId": "f62176ef-7a74-4a8c-b6b5-30a1fc3b94c8"
   },
   "outputs": [
    {
     "name": "stdout",
     "output_type": "stream",
     "text": [
      "Model: \"model\"\n",
      "_________________________________________________________________\n",
      "Layer (type)                 Output Shape              Param #   \n",
      "=================================================================\n",
      "input_1 (InputLayer)         [(None, 80, 75, 3)]       0         \n",
      "_________________________________________________________________\n",
      "conv2d (Conv2D)              (None, 78, 73, 5)         140       \n",
      "_________________________________________________________________\n",
      "batch_normalization (BatchNo (None, 78, 73, 5)         20        \n",
      "_________________________________________________________________\n",
      "activation (Activation)      (None, 78, 73, 5)         0         \n",
      "_________________________________________________________________\n",
      "conv2d_1 (Conv2D)            (None, 76, 71, 8)         368       \n",
      "_________________________________________________________________\n",
      "batch_normalization_1 (Batch (None, 76, 71, 8)         32        \n",
      "_________________________________________________________________\n",
      "activation_1 (Activation)    (None, 76, 71, 8)         0         \n",
      "_________________________________________________________________\n",
      "conv2d_2 (Conv2D)            (None, 24, 23, 16)        3216      \n",
      "_________________________________________________________________\n",
      "batch_normalization_2 (Batch (None, 24, 23, 16)        64        \n",
      "_________________________________________________________________\n",
      "activation_2 (Activation)    (None, 24, 23, 16)        0         \n",
      "_________________________________________________________________\n",
      "conv2d_3 (Conv2D)            (None, 10, 10, 16)        6416      \n",
      "_________________________________________________________________\n",
      "batch_normalization_3 (Batch (None, 10, 10, 16)        64        \n",
      "_________________________________________________________________\n",
      "activation_3 (Activation)    (None, 10, 10, 16)        0         \n",
      "_________________________________________________________________\n",
      "average_pooling2d (AveragePo (None, 5, 5, 16)          0         \n",
      "_________________________________________________________________\n",
      "flatten (Flatten)            (None, 400)               0         \n",
      "_________________________________________________________________\n",
      "dense (Dense)                (None, 256)               102656    \n",
      "_________________________________________________________________\n",
      "dense_1 (Dense)              (None, 16)                4112      \n",
      "_________________________________________________________________\n",
      "dense_2 (Dense)              (None, 1)                 17        \n",
      "=================================================================\n",
      "Total params: 117,105\n",
      "Trainable params: 117,015\n",
      "Non-trainable params: 90\n",
      "_________________________________________________________________\n",
      "None\n"
     ]
    }
   ],
   "source": [
    "model_ = Model1()\n",
    "model = model_.model((80, 75, 3), 4)\n",
    "print(model.summary())"
   ]
  },
  {
   "cell_type": "code",
   "execution_count": 3,
   "metadata": {
    "id": "-IhcakJWUV5a"
   },
   "outputs": [],
   "source": [
    "lr = 0.003\n",
    "model.compile(optimizer=optimizers.RMSprop(learning_rate=lr), \n",
    "                loss=losses.MeanAbsoluteError(), \n",
    "                metrics=metrics.MeanAbsoluteError())"
   ]
  },
  {
   "cell_type": "code",
   "execution_count": 4,
   "metadata": {
    "id": "b6eM1BNyUV5a"
   },
   "outputs": [],
   "source": [
    "# path = 'D:/Projects/Atari breakout game DATA/'\n",
    "# data = pd.read_csv(path + 'random_data.csv')\n",
    "\n",
    "path = 'D:/Projects/Atari-Breakout-Game/'\n",
    "data = pd.read_csv(path + 'data_processed2.csv')"
   ]
  },
  {
   "cell_type": "code",
   "execution_count": 5,
   "metadata": {
    "id": "mEjlLdNEUV5b",
    "outputId": "e7014074-ebac-4db5-ef3b-651d6922839d"
   },
   "outputs": [
    {
     "data": {
      "text/plain": [
       "(11937, 12002)"
      ]
     },
     "execution_count": 5,
     "metadata": {},
     "output_type": "execute_result"
    }
   ],
   "source": [
    "data.shape"
   ]
  },
  {
   "cell_type": "code",
   "execution_count": 6,
   "metadata": {
    "id": "5tWf1JAcUV5c"
   },
   "outputs": [],
   "source": [
    "Y = data['reward'].to_numpy()\n",
    "actions = data['action'].to_numpy()\n",
    "X = data.drop(columns=['reward', 'action']).to_numpy()"
   ]
  },
  {
   "cell_type": "code",
   "execution_count": 7,
   "metadata": {
    "id": "zowdqK4ZUV5c"
   },
   "outputs": [],
   "source": [
    "X = merge_S_A(X, actions)"
   ]
  },
  {
   "cell_type": "code",
   "execution_count": 8,
   "metadata": {
    "id": "vxwbdyNaUV5d"
   },
   "outputs": [],
   "source": [
    "X = np.reshape(X, newshape=((X.shape[0], 80, 75, 3)))"
   ]
  },
  {
   "cell_type": "code",
   "execution_count": 9,
   "metadata": {},
   "outputs": [],
   "source": [
    "X_train, X_test, Y_train, Y_test = train_test_split(X, Y, test_size=.3)"
   ]
  },
  {
   "cell_type": "code",
   "execution_count": 10,
   "metadata": {
    "id": "lWFU9AMpUV5d",
    "outputId": "c2fd245d-a826-4430-a6f4-393ae40ae900"
   },
   "outputs": [
    {
     "data": {
      "text/plain": [
       "(8355, 80, 75, 3)"
      ]
     },
     "execution_count": 10,
     "metadata": {},
     "output_type": "execute_result"
    }
   ],
   "source": [
    "X_train.shape"
   ]
  },
  {
   "cell_type": "code",
   "execution_count": 11,
   "metadata": {
    "id": "fBjWiK5KUV5e",
    "outputId": "89edbb36-f7b7-4a28-fac5-19623831343d"
   },
   "outputs": [
    {
     "name": "stdout",
     "output_type": "stream",
     "text": [
      "Epoch 1/8\n",
      "131/131 [==============================] - 15s 27ms/step - loss: 9.6092 - mean_absolute_error: 9.6092\n",
      "Epoch 2/8\n",
      "131/131 [==============================] - 3s 24ms/step - loss: 9.6092 - mean_absolute_error: 9.6092\n",
      "Epoch 3/8\n",
      "131/131 [==============================] - 3s 24ms/step - loss: 9.6092 - mean_absolute_error: 9.6092\n",
      "Epoch 4/8\n",
      "131/131 [==============================] - 3s 24ms/step - loss: 9.6092 - mean_absolute_error: 9.6092\n",
      "Epoch 5/8\n",
      "131/131 [==============================] - 3s 25ms/step - loss: 9.6092 - mean_absolute_error: 9.6092\n",
      "Epoch 6/8\n",
      "131/131 [==============================] - 3s 24ms/step - loss: 9.6092 - mean_absolute_error: 9.6092\n",
      "Epoch 7/8\n",
      "131/131 [==============================] - 3s 24ms/step - loss: 9.6092 - mean_absolute_error: 9.6092\n",
      "Epoch 8/8\n",
      "131/131 [==============================] - 3s 25ms/step - loss: 9.6092 - mean_absolute_error: 9.6092\n"
     ]
    },
    {
     "data": {
      "text/plain": [
       "<tensorflow.python.keras.callbacks.History at 0x1e85d820400>"
      ]
     },
     "execution_count": 11,
     "metadata": {},
     "output_type": "execute_result"
    }
   ],
   "source": [
    "model.fit(X_train, Y_train, epochs=8, batch_size=64)"
   ]
  },
  {
   "cell_type": "code",
   "execution_count": 12,
   "metadata": {},
   "outputs": [
    {
     "name": "stdout",
     "output_type": "stream",
     "text": [
      "112/112 [==============================] - 13s 8ms/step - loss: 9.5656 - mean_absolute_error: 9.5656\n"
     ]
    },
    {
     "data": {
      "text/plain": [
       "[9.565617561340332, 9.565617561340332]"
      ]
     },
     "execution_count": 12,
     "metadata": {},
     "output_type": "execute_result"
    }
   ],
   "source": [
    "model.evaluate(X_test, Y_test)"
   ]
  },
  {
   "cell_type": "code",
   "execution_count": 13,
   "metadata": {
    "id": "ni1IdIx-UV5e",
    "outputId": "b0485205-b75b-4368-a125-2b050e81faf9"
   },
   "outputs": [
    {
     "name": "stdout",
     "output_type": "stream",
     "text": [
      "INFO:tensorflow:Assets written to: model2\\assets\n"
     ]
    }
   ],
   "source": [
    "model.save('model2')"
   ]
  },
  {
   "cell_type": "markdown",
   "metadata": {
    "id": "YLcevs8YUV5e"
   },
   "source": [
    "## Testing and Data Generation"
   ]
  },
  {
   "cell_type": "code",
   "execution_count": 17,
   "metadata": {},
   "outputs": [],
   "source": [
    "from tensorflow.keras.models import load_model\n",
    "from helper_funcs import *\n",
    "model = load_model('model2')"
   ]
  },
  {
   "cell_type": "code",
   "execution_count": 18,
   "metadata": {
    "id": "0LNYp06oUV5f"
   },
   "outputs": [],
   "source": [
    "cols = ['Obs'+str(i)+'_'+str(m)+'_'+str(n) for i in range(2) for m in range(80) for n in range(75)]\n",
    "cols.extend(['action', 'reward'])"
   ]
  },
  {
   "cell_type": "code",
   "execution_count": 23,
   "metadata": {
    "id": "vRbVFykWUV5g",
    "scrolled": true
   },
   "outputs": [],
   "source": [
    "episodes = 100\n",
    "life_memory = []\n",
    "i_episode = 0\n",
    "epsilon = .5\n",
    "discount_factor = 0.9\n",
    "stepper = True\n",
    "\n",
    "while i_episode < episodes:\n",
    "    episodic_memory = []\n",
    "    done = False\n",
    "    obss = deque(maxlen=2)\n",
    "    obs = env.reset()\n",
    "    ep_reward = 0\n",
    "    prev_reward = 0\n",
    "    for i in range(10):\n",
    "        obss.append(image_compressor(obs))\n",
    "        action = env.action_space.sample()\n",
    "        obs, _, _, _ = env.step(action)\n",
    "        obss.append(image_compressor(obs))\n",
    "    \n",
    "    while not done:\n",
    "        step_memory = []\n",
    "        stepper = not stepper\n",
    "        if np.random.rand() < epsilon:\n",
    "            action = env.action_space.sample()\n",
    "        else:\n",
    "            action = np.argmax(model.predict(model_input(obss[0], obss[1], 4)))\n",
    "        obs, reward, done, info = env.step(action)\n",
    "        ep_reward = (reward - prev_reward)*10 + ep_reward*discount_factor - 1\n",
    "        if stepper:\n",
    "            continue\n",
    "        step_memory.extend(obss[0].flatten())\n",
    "        step_memory.extend(obss[1].flatten())\n",
    "        step_memory.extend([action, ep_reward])\n",
    "        episodic_memory.append(list_to_pdSeries(keys=cols, values=step_memory))\n",
    "        obss.append(image_compressor(obs))\n",
    "        prev_reward = reward\n",
    "\n",
    "    life_memory.extend(episodic_memory)\n",
    "    i_episode += 1\n",
    "\n",
    "memory_df = pd.concat(life_memory, axis=1).T"
   ]
  },
  {
   "cell_type": "code",
   "execution_count": 24,
   "metadata": {
    "id": "2BSY66jlUV5g",
    "outputId": "eda19c4d-a4d6-4eb7-977c-15fd7a7f63f9"
   },
   "outputs": [
    {
     "data": {
      "text/plain": [
       "(11937, 12002)"
      ]
     },
     "execution_count": 24,
     "metadata": {},
     "output_type": "execute_result"
    }
   ],
   "source": [
    "# memory_df = pd.concat(life_memory, axis=1).T\n",
    "memory_df.shape"
   ]
  },
  {
   "cell_type": "code",
   "execution_count": 25,
   "metadata": {},
   "outputs": [
    {
     "data": {
      "text/plain": [
       "-114546.70369106122"
      ]
     },
     "execution_count": 25,
     "metadata": {},
     "output_type": "execute_result"
    }
   ],
   "source": [
    "memory_df['reward'].sum()"
   ]
  },
  {
   "cell_type": "code",
   "execution_count": 26,
   "metadata": {
    "id": "qAkmTD7AUV5h"
   },
   "outputs": [],
   "source": [
    "memory_df.to_csv('data_processed2.csv', index=False)"
   ]
  },
  {
   "cell_type": "code",
   "execution_count": 6,
   "metadata": {},
   "outputs": [
    {
     "ename": "KeyboardInterrupt",
     "evalue": "",
     "output_type": "error",
     "traceback": [
      "\u001b[1;31m---------------------------------------------------------------------------\u001b[0m",
      "\u001b[1;31mKeyboardInterrupt\u001b[0m                         Traceback (most recent call last)",
      "\u001b[1;32md:\\Projects\\Atari-Breakout-Game\\Model.ipynb Cell 38'\u001b[0m in \u001b[0;36m<cell line: 21>\u001b[1;34m()\u001b[0m\n\u001b[0;32m     <a href='vscode-notebook-cell:/d%3A/Projects/Atari-Breakout-Game/Model.ipynb#ch0000037?line=22'>23</a>\u001b[0m display\u001b[39m.\u001b[39mdisplay(plt\u001b[39m.\u001b[39mgcf())\n\u001b[0;32m     <a href='vscode-notebook-cell:/d%3A/Projects/Atari-Breakout-Game/Model.ipynb#ch0000037?line=23'>24</a>\u001b[0m display\u001b[39m.\u001b[39mclear_output(wait\u001b[39m=\u001b[39m\u001b[39mTrue\u001b[39;00m)\n\u001b[1;32m---> <a href='vscode-notebook-cell:/d%3A/Projects/Atari-Breakout-Game/Model.ipynb#ch0000037?line=24'>25</a>\u001b[0m action \u001b[39m=\u001b[39m np\u001b[39m.\u001b[39margmax(model\u001b[39m.\u001b[39;49mpredict(model_input(obss[\u001b[39m0\u001b[39;49m], obss[\u001b[39m1\u001b[39;49m], \u001b[39m4\u001b[39;49m)))\n\u001b[0;32m     <a href='vscode-notebook-cell:/d%3A/Projects/Atari-Breakout-Game/Model.ipynb#ch0000037?line=25'>26</a>\u001b[0m obs, x, done, _ \u001b[39m=\u001b[39m env\u001b[39m.\u001b[39mstep(action)\n\u001b[0;32m     <a href='vscode-notebook-cell:/d%3A/Projects/Atari-Breakout-Game/Model.ipynb#ch0000037?line=26'>27</a>\u001b[0m obss\u001b[39m.\u001b[39mappend(image_compressor(obs))\n",
      "File \u001b[1;32m~\\anaconda3\\envs\\tf_gpu\\lib\\site-packages\\tensorflow\\python\\keras\\engine\\training.py:1745\u001b[0m, in \u001b[0;36mModel.predict\u001b[1;34m(self, x, batch_size, verbose, steps, callbacks, max_queue_size, workers, use_multiprocessing)\u001b[0m\n\u001b[0;32m   <a href='file:///c%3A/Users/binda/anaconda3/envs/tf_gpu/lib/site-packages/tensorflow/python/keras/engine/training.py?line=1742'>1743</a>\u001b[0m callbacks\u001b[39m.\u001b[39mon_predict_begin()\n\u001b[0;32m   <a href='file:///c%3A/Users/binda/anaconda3/envs/tf_gpu/lib/site-packages/tensorflow/python/keras/engine/training.py?line=1743'>1744</a>\u001b[0m batch_outputs \u001b[39m=\u001b[39m \u001b[39mNone\u001b[39;00m\n\u001b[1;32m-> <a href='file:///c%3A/Users/binda/anaconda3/envs/tf_gpu/lib/site-packages/tensorflow/python/keras/engine/training.py?line=1744'>1745</a>\u001b[0m \u001b[39mfor\u001b[39;00m _, iterator \u001b[39min\u001b[39;00m data_handler\u001b[39m.\u001b[39menumerate_epochs():  \u001b[39m# Single epoch.\u001b[39;00m\n\u001b[0;32m   <a href='file:///c%3A/Users/binda/anaconda3/envs/tf_gpu/lib/site-packages/tensorflow/python/keras/engine/training.py?line=1745'>1746</a>\u001b[0m   \u001b[39mwith\u001b[39;00m data_handler\u001b[39m.\u001b[39mcatch_stop_iteration():\n\u001b[0;32m   <a href='file:///c%3A/Users/binda/anaconda3/envs/tf_gpu/lib/site-packages/tensorflow/python/keras/engine/training.py?line=1746'>1747</a>\u001b[0m     \u001b[39mfor\u001b[39;00m step \u001b[39min\u001b[39;00m data_handler\u001b[39m.\u001b[39msteps():\n",
      "File \u001b[1;32m~\\anaconda3\\envs\\tf_gpu\\lib\\site-packages\\tensorflow\\python\\keras\\engine\\data_adapter.py:1197\u001b[0m, in \u001b[0;36mDataHandler.enumerate_epochs\u001b[1;34m(self)\u001b[0m\n\u001b[0;32m   <a href='file:///c%3A/Users/binda/anaconda3/envs/tf_gpu/lib/site-packages/tensorflow/python/keras/engine/data_adapter.py?line=1194'>1195</a>\u001b[0m \u001b[39m\"\"\"Yields `(epoch, tf.data.Iterator)`.\"\"\"\u001b[39;00m\n\u001b[0;32m   <a href='file:///c%3A/Users/binda/anaconda3/envs/tf_gpu/lib/site-packages/tensorflow/python/keras/engine/data_adapter.py?line=1195'>1196</a>\u001b[0m \u001b[39mwith\u001b[39;00m \u001b[39mself\u001b[39m\u001b[39m.\u001b[39m_truncate_execution_to_epoch():\n\u001b[1;32m-> <a href='file:///c%3A/Users/binda/anaconda3/envs/tf_gpu/lib/site-packages/tensorflow/python/keras/engine/data_adapter.py?line=1196'>1197</a>\u001b[0m   data_iterator \u001b[39m=\u001b[39m \u001b[39miter\u001b[39;49m(\u001b[39mself\u001b[39;49m\u001b[39m.\u001b[39;49m_dataset)\n\u001b[0;32m   <a href='file:///c%3A/Users/binda/anaconda3/envs/tf_gpu/lib/site-packages/tensorflow/python/keras/engine/data_adapter.py?line=1197'>1198</a>\u001b[0m   \u001b[39mfor\u001b[39;00m epoch \u001b[39min\u001b[39;00m \u001b[39mrange\u001b[39m(\u001b[39mself\u001b[39m\u001b[39m.\u001b[39m_initial_epoch, \u001b[39mself\u001b[39m\u001b[39m.\u001b[39m_epochs):\n\u001b[0;32m   <a href='file:///c%3A/Users/binda/anaconda3/envs/tf_gpu/lib/site-packages/tensorflow/python/keras/engine/data_adapter.py?line=1198'>1199</a>\u001b[0m     \u001b[39mif\u001b[39;00m \u001b[39mself\u001b[39m\u001b[39m.\u001b[39m_insufficient_data:  \u001b[39m# Set by `catch_stop_iteration`.\u001b[39;00m\n",
      "File \u001b[1;32m~\\anaconda3\\envs\\tf_gpu\\lib\\site-packages\\tensorflow\\python\\data\\ops\\dataset_ops.py:411\u001b[0m, in \u001b[0;36mDatasetV2.__iter__\u001b[1;34m(self)\u001b[0m\n\u001b[0;32m    <a href='file:///c%3A/Users/binda/anaconda3/envs/tf_gpu/lib/site-packages/tensorflow/python/data/ops/dataset_ops.py?line=408'>409</a>\u001b[0m \u001b[39mif\u001b[39;00m context\u001b[39m.\u001b[39mexecuting_eagerly() \u001b[39mor\u001b[39;00m ops\u001b[39m.\u001b[39minside_function():\n\u001b[0;32m    <a href='file:///c%3A/Users/binda/anaconda3/envs/tf_gpu/lib/site-packages/tensorflow/python/data/ops/dataset_ops.py?line=409'>410</a>\u001b[0m   \u001b[39mwith\u001b[39;00m ops\u001b[39m.\u001b[39mcolocate_with(\u001b[39mself\u001b[39m\u001b[39m.\u001b[39m_variant_tensor):\n\u001b[1;32m--> <a href='file:///c%3A/Users/binda/anaconda3/envs/tf_gpu/lib/site-packages/tensorflow/python/data/ops/dataset_ops.py?line=410'>411</a>\u001b[0m     \u001b[39mreturn\u001b[39;00m iterator_ops\u001b[39m.\u001b[39;49mOwnedIterator(\u001b[39mself\u001b[39;49m)\n\u001b[0;32m    <a href='file:///c%3A/Users/binda/anaconda3/envs/tf_gpu/lib/site-packages/tensorflow/python/data/ops/dataset_ops.py?line=411'>412</a>\u001b[0m \u001b[39melse\u001b[39;00m:\n\u001b[0;32m    <a href='file:///c%3A/Users/binda/anaconda3/envs/tf_gpu/lib/site-packages/tensorflow/python/data/ops/dataset_ops.py?line=412'>413</a>\u001b[0m   \u001b[39mraise\u001b[39;00m \u001b[39mRuntimeError\u001b[39;00m(\u001b[39m\"\u001b[39m\u001b[39m__iter__() is only supported inside of tf.function \u001b[39m\u001b[39m\"\u001b[39m\n\u001b[0;32m    <a href='file:///c%3A/Users/binda/anaconda3/envs/tf_gpu/lib/site-packages/tensorflow/python/data/ops/dataset_ops.py?line=413'>414</a>\u001b[0m                      \u001b[39m\"\u001b[39m\u001b[39mor when eager execution is enabled.\u001b[39m\u001b[39m\"\u001b[39m)\n",
      "File \u001b[1;32m~\\anaconda3\\envs\\tf_gpu\\lib\\site-packages\\tensorflow\\python\\data\\ops\\iterator_ops.py:696\u001b[0m, in \u001b[0;36mOwnedIterator.__init__\u001b[1;34m(self, dataset, components, element_spec)\u001b[0m\n\u001b[0;32m    <a href='file:///c%3A/Users/binda/anaconda3/envs/tf_gpu/lib/site-packages/tensorflow/python/data/ops/iterator_ops.py?line=693'>694</a>\u001b[0m \u001b[39mif\u001b[39;00m (components \u001b[39mis\u001b[39;00m \u001b[39mnot\u001b[39;00m \u001b[39mNone\u001b[39;00m \u001b[39mor\u001b[39;00m element_spec \u001b[39mis\u001b[39;00m \u001b[39mnot\u001b[39;00m \u001b[39mNone\u001b[39;00m):\n\u001b[0;32m    <a href='file:///c%3A/Users/binda/anaconda3/envs/tf_gpu/lib/site-packages/tensorflow/python/data/ops/iterator_ops.py?line=694'>695</a>\u001b[0m   \u001b[39mraise\u001b[39;00m \u001b[39mValueError\u001b[39;00m(error_message)\n\u001b[1;32m--> <a href='file:///c%3A/Users/binda/anaconda3/envs/tf_gpu/lib/site-packages/tensorflow/python/data/ops/iterator_ops.py?line=695'>696</a>\u001b[0m \u001b[39mself\u001b[39;49m\u001b[39m.\u001b[39;49m_create_iterator(dataset)\n",
      "File \u001b[1;32m~\\anaconda3\\envs\\tf_gpu\\lib\\site-packages\\tensorflow\\python\\data\\ops\\iterator_ops.py:719\u001b[0m, in \u001b[0;36mOwnedIterator._create_iterator\u001b[1;34m(self, dataset)\u001b[0m\n\u001b[0;32m    <a href='file:///c%3A/Users/binda/anaconda3/envs/tf_gpu/lib/site-packages/tensorflow/python/data/ops/iterator_ops.py?line=713'>714</a>\u001b[0m \u001b[39mwith\u001b[39;00m ops\u001b[39m.\u001b[39mcolocate_with(ds_variant):\n\u001b[0;32m    <a href='file:///c%3A/Users/binda/anaconda3/envs/tf_gpu/lib/site-packages/tensorflow/python/data/ops/iterator_ops.py?line=714'>715</a>\u001b[0m   \u001b[39mself\u001b[39m\u001b[39m.\u001b[39m_iterator_resource, \u001b[39mself\u001b[39m\u001b[39m.\u001b[39m_deleter \u001b[39m=\u001b[39m (\n\u001b[0;32m    <a href='file:///c%3A/Users/binda/anaconda3/envs/tf_gpu/lib/site-packages/tensorflow/python/data/ops/iterator_ops.py?line=715'>716</a>\u001b[0m       gen_dataset_ops\u001b[39m.\u001b[39manonymous_iterator_v2(\n\u001b[0;32m    <a href='file:///c%3A/Users/binda/anaconda3/envs/tf_gpu/lib/site-packages/tensorflow/python/data/ops/iterator_ops.py?line=716'>717</a>\u001b[0m           output_types\u001b[39m=\u001b[39m\u001b[39mself\u001b[39m\u001b[39m.\u001b[39m_flat_output_types,\n\u001b[0;32m    <a href='file:///c%3A/Users/binda/anaconda3/envs/tf_gpu/lib/site-packages/tensorflow/python/data/ops/iterator_ops.py?line=717'>718</a>\u001b[0m           output_shapes\u001b[39m=\u001b[39m\u001b[39mself\u001b[39m\u001b[39m.\u001b[39m_flat_output_shapes))\n\u001b[1;32m--> <a href='file:///c%3A/Users/binda/anaconda3/envs/tf_gpu/lib/site-packages/tensorflow/python/data/ops/iterator_ops.py?line=718'>719</a>\u001b[0m   gen_dataset_ops\u001b[39m.\u001b[39;49mmake_iterator(ds_variant, \u001b[39mself\u001b[39;49m\u001b[39m.\u001b[39;49m_iterator_resource)\n\u001b[0;32m    <a href='file:///c%3A/Users/binda/anaconda3/envs/tf_gpu/lib/site-packages/tensorflow/python/data/ops/iterator_ops.py?line=719'>720</a>\u001b[0m   \u001b[39m# Delete the resource when this object is deleted\u001b[39;00m\n\u001b[0;32m    <a href='file:///c%3A/Users/binda/anaconda3/envs/tf_gpu/lib/site-packages/tensorflow/python/data/ops/iterator_ops.py?line=720'>721</a>\u001b[0m   \u001b[39mself\u001b[39m\u001b[39m.\u001b[39m_resource_deleter \u001b[39m=\u001b[39m IteratorResourceDeleter(\n\u001b[0;32m    <a href='file:///c%3A/Users/binda/anaconda3/envs/tf_gpu/lib/site-packages/tensorflow/python/data/ops/iterator_ops.py?line=721'>722</a>\u001b[0m       handle\u001b[39m=\u001b[39m\u001b[39mself\u001b[39m\u001b[39m.\u001b[39m_iterator_resource,\n\u001b[0;32m    <a href='file:///c%3A/Users/binda/anaconda3/envs/tf_gpu/lib/site-packages/tensorflow/python/data/ops/iterator_ops.py?line=722'>723</a>\u001b[0m       deleter\u001b[39m=\u001b[39m\u001b[39mself\u001b[39m\u001b[39m.\u001b[39m_deleter)\n",
      "File \u001b[1;32m~\\anaconda3\\envs\\tf_gpu\\lib\\site-packages\\tensorflow\\python\\ops\\gen_dataset_ops.py:3119\u001b[0m, in \u001b[0;36mmake_iterator\u001b[1;34m(dataset, iterator, name)\u001b[0m\n\u001b[0;32m   <a href='file:///c%3A/Users/binda/anaconda3/envs/tf_gpu/lib/site-packages/tensorflow/python/ops/gen_dataset_ops.py?line=3116'>3117</a>\u001b[0m \u001b[39mif\u001b[39;00m tld\u001b[39m.\u001b[39mis_eager:\n\u001b[0;32m   <a href='file:///c%3A/Users/binda/anaconda3/envs/tf_gpu/lib/site-packages/tensorflow/python/ops/gen_dataset_ops.py?line=3117'>3118</a>\u001b[0m   \u001b[39mtry\u001b[39;00m:\n\u001b[1;32m-> <a href='file:///c%3A/Users/binda/anaconda3/envs/tf_gpu/lib/site-packages/tensorflow/python/ops/gen_dataset_ops.py?line=3118'>3119</a>\u001b[0m     _result \u001b[39m=\u001b[39m pywrap_tfe\u001b[39m.\u001b[39;49mTFE_Py_FastPathExecute(\n\u001b[0;32m   <a href='file:///c%3A/Users/binda/anaconda3/envs/tf_gpu/lib/site-packages/tensorflow/python/ops/gen_dataset_ops.py?line=3119'>3120</a>\u001b[0m       _ctx, \u001b[39m\"\u001b[39;49m\u001b[39mMakeIterator\u001b[39;49m\u001b[39m\"\u001b[39;49m, name, dataset, iterator)\n\u001b[0;32m   <a href='file:///c%3A/Users/binda/anaconda3/envs/tf_gpu/lib/site-packages/tensorflow/python/ops/gen_dataset_ops.py?line=3120'>3121</a>\u001b[0m     \u001b[39mreturn\u001b[39;00m _result\n\u001b[0;32m   <a href='file:///c%3A/Users/binda/anaconda3/envs/tf_gpu/lib/site-packages/tensorflow/python/ops/gen_dataset_ops.py?line=3121'>3122</a>\u001b[0m   \u001b[39mexcept\u001b[39;00m _core\u001b[39m.\u001b[39m_NotOkStatusException \u001b[39mas\u001b[39;00m e:\n",
      "\u001b[1;31mKeyboardInterrupt\u001b[0m: "
     ]
    },
    {
     "data": {
      "image/png": "[encoded data removed]",
      "text/plain": [
       "<Figure size 432x288 with 1 Axes>"
      ]
     },
     "metadata": {
      "needs_background": "light"
     },
     "output_type": "display_data"
    }
   ],
   "source": [
    "from collections import deque\n",
    "import gym\n",
    "import matplotlib.pyplot as plt\n",
    "from IPython import display\n",
    "from tensorflow.keras.models import load_model\n",
    "from helper_funcs import *\n",
    "\n",
    "model = load_model('model2')\n",
    "env = gym.make('Breakout-v0')\n",
    "obss = deque(maxlen=2)\n",
    "obs = env.reset()\n",
    "\n",
    "for i in range(10):\n",
    "    obss.append(image_compressor(obs))\n",
    "    action = env.action_space.sample()\n",
    "    obs, _, _, _ = env.step(action)\n",
    "    obss.append(image_compressor(obs))\n",
    "\n",
    "img = plt.imshow(env.render(mode='rgb_array'))\n",
    "done = False\n",
    "while not done:\n",
    "    img.set_data(env.render(mode='rgb_array'))\n",
    "    display.display(plt.gcf())\n",
    "    display.clear_output(wait=True)\n",
    "    action = np.argmax(model.predict(model_input(obss[0], obss[1], 4)))\n",
    "    obs, x, done, _ = env.step(action)\n",
    "    obss.append(image_compressor(obs))"
   ]
  }
 ],
 "metadata": {
  "colab": {
   "name": "Model.ipynb",
   "provenance": []
  },
  "interpreter": {
   "hash": "bfc70696e28b1f7d97a8c59e12040c864602fc90b0ede793198864df55d298fd"
  },
  "kernelspec": {
   "display_name": "Python 3 (ipykernel)",
   "language": "python",
   "name": "python3"
  },
  "language_info": {
   "codemirror_mode": {
    "name": "ipython",
    "version": 3
   },
   "file_extension": ".py",
   "mimetype": "text/x-python",
   "name": "python",
   "nbconvert_exporter": "python",
   "pygments_lexer": "ipython3",
   "version": "3.8.12"
  }
 },
 "nbformat": 4,
 "nbformat_minor": 1
}
