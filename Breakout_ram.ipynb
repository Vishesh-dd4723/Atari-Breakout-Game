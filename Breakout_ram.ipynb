{
 "cells": [
  {
   "cell_type": "code",
   "execution_count": 1,
   "id": "a96f7608",
   "metadata": {},
   "outputs": [],
   "source": [
    "import gym\n",
    "import cv2\n",
    "import numpy as np\n",
    "import pandas as pd"
   ]
  },
  {
   "cell_type": "code",
   "execution_count": 2,
   "id": "4063afa2",
   "metadata": {},
   "outputs": [],
   "source": [
    "env = gym.make('Breakout-ram-v0')"
   ]
  },
  {
   "cell_type": "code",
   "execution_count": 5,
   "id": "898a18e9",
   "metadata": {},
   "outputs": [],
   "source": [
    "cols = ['Obs'+str(i) for i in range(128)]\n",
    "cols.extend(['episode', 'action', 'reward'])\n",
    "\n",
    "episodes = 100\n",
    "discount_factor = 0.5\n",
    "memory_df = pd.DataFrame(columns=cols)\n",
    "\n",
    "for i_episode in range(episodes):\n",
    "    done = False\n",
    "    obs = env.reset()\n",
    "    ep_reward, prev_reward = 0, 0\n",
    "    for i in range(10):\n",
    "        action = env.action_space.sample()\n",
    "        prev_obs, _, _, _ = env.step(action)\n",
    "    \n",
    "    while not done:\n",
    "        action = env.action_space.sample()\n",
    "        obs, reward, done, info = env.step(action)\n",
    "        ep_reward = (reward - prev_reward)*10 + ep_reward*discount_factor - .1\n",
    "        memory_df.loc[len(memory_df.index)] = np.hstack((prev_obs, [i_episode, action, ep_reward]))\n",
    "        prev_reward = reward\n",
    "        prev_obs = obs"
   ]
  },
  {
   "cell_type": "code",
   "execution_count": 6,
   "id": "c7c4d9c1",
   "metadata": {},
   "outputs": [],
   "source": [
    "memory_df.to_csv('random_data_ram.csv', index=False)"
   ]
  },
  {
   "cell_type": "code",
   "execution_count": 7,
   "id": "99eb4711",
   "metadata": {},
   "outputs": [],
   "source": [
    "data = pd.read_csv('random_data_ram1.csv')"
   ]
  },
  {
   "cell_type": "code",
   "execution_count": 10,
   "id": "58b0fd94",
   "metadata": {},
   "outputs": [
    {
     "data": {
      "text/plain": [
       "100"
      ]
     },
     "execution_count": 10,
     "metadata": {},
     "output_type": "execute_result"
    }
   ],
   "source": [
    "data.groupby(by='episode')['hits'].max().count()"
   ]
  },
  {
   "cell_type": "markdown",
   "id": "1db412ab",
   "metadata": {},
   "source": [
    "## Epsilon Greedy"
   ]
  },
  {
   "cell_type": "code",
   "execution_count": null,
   "id": "176c7729",
   "metadata": {},
   "outputs": [],
   "source": [
    "from tensorflow.keras.models import load_model\n",
    "from helper_funcs import model_input\n",
    "import pandas as pd\n",
    "import numpy as np\n",
    "import gym"
   ]
  },
  {
   "cell_type": "code",
   "execution_count": null,
   "id": "1e166e2c",
   "metadata": {},
   "outputs": [],
   "source": [
    "randomness = False\n",
    "path = 'C:/Users/INTERN/Downloads/VISHESH/DATA/'\n",
    "try:\n",
    "    if not randomness:\n",
    "        model = load_model('model1')\n",
    "        print('Model Loaded')\n",
    "except:\n",
    "    randomness = True\n",
    "\n",
    "env = gym.make('Breakout-ram-v0')\n",
    "np.random.seed(0)\n",
    "env.seed(0)"
   ]
  },
  {
   "cell_type": "code",
   "execution_count": null,
   "id": "b48daaae",
   "metadata": {},
   "outputs": [],
   "source": [
    "cols = ['Obs'+str(i) for i in range(128)]\n",
    "cols.extend(['episode', 'action', 'reward', 'hits'])\n",
    "\n",
    "episodes = 100\n",
    "discount_factor = 0.9\n",
    "epsilon = .5\n",
    "memory_df = pd.DataFrame(columns=cols)\n",
    "\n",
    "for i_episode in range(episodes):\n",
    "    done = False\n",
    "    obs = env.reset()\n",
    "    ep_reward, prev_reward, hits = 0, 0, 0\n",
    "    for i in range(10):\n",
    "        action = env.action_space.sample()\n",
    "        prev_obs, _, _, _ = env.step(action)\n",
    "    \n",
    "    while not done:\n",
    "        if np.random.rand() < epsilon or randomness:\n",
    "            action = env.action_space.sample()\n",
    "        else:\n",
    "            x = model.predict(model_input(prev_obs, 4))\n",
    "            action = np.argmax(x)\n",
    "            # break\n",
    "        obs, reward, done, info = env.step(action)\n",
    "        hits += reward\n",
    "        ep_reward = reward*10 + ep_reward*discount_factor - .1\n",
    "        memory_df.loc[len(memory_df.index)] = np.hstack((prev_obs, [i_episode, action, ep_reward, hits]))\n",
    "        prev_reward = reward\n",
    "        prev_obs = obs"
   ]
  },
  {
   "cell_type": "code",
   "execution_count": null,
   "id": "71687698",
   "metadata": {},
   "outputs": [],
   "source": [
    "memory_df.to_csv('random_data_ram2.csv', index=False)\n",
    "print(memory_df.shape)"
   ]
  }
 ],
 "metadata": {
  "kernelspec": {
   "display_name": "Python 3 (ipykernel)",
   "language": "python",
   "name": "python3"
  },
  "language_info": {
   "codemirror_mode": {
    "name": "ipython",
    "version": 3
   },
   "file_extension": ".py",
   "mimetype": "text/x-python",
   "name": "python",
   "nbconvert_exporter": "python",
   "pygments_lexer": "ipython3",
   "version": "3.9.12"
  }
 },
 "nbformat": 4,
 "nbformat_minor": 5
}
