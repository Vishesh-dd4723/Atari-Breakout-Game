{
 "cells": [
  {
   "cell_type": "code",
   "execution_count": 1,
   "id": "a96f7608",
   "metadata": {},
   "outputs": [],
   "source": [
    "import gym\n",
    "import cv2\n",
    "import numpy as np\n",
    "import pandas as pd"
   ]
  },
  {
   "cell_type": "code",
   "execution_count": 2,
   "id": "4063afa2",
   "metadata": {},
   "outputs": [],
   "source": [
    "env = gym.make('Breakout-ram-v0')"
   ]
  },
  {
   "cell_type": "code",
   "execution_count": 5,
   "id": "898a18e9",
   "metadata": {},
   "outputs": [],
   "source": [
    "cols = ['Obs'+str(i) for i in range(128)]\n",
    "cols.extend(['episode', 'action', 'reward'])\n",
    "\n",
    "episodes = 100\n",
    "discount_factor = 0.5\n",
    "memory_df = pd.DataFrame(columns=cols)\n",
    "\n",
    "for i_episode in range(episodes):\n",
    "    done = False\n",
    "    obs = env.reset()\n",
    "    ep_reward, prev_reward = 0, 0\n",
    "    for i in range(10):\n",
    "        action = env.action_space.sample()\n",
    "        prev_obs, _, _, _ = env.step(action)\n",
    "    \n",
    "    while not done:\n",
    "        action = env.action_space.sample()\n",
    "        obs, reward, done, info = env.step(action)\n",
    "        ep_reward = (reward - prev_reward)*10 + ep_reward*discount_factor - .1\n",
    "        memory_df.loc[len(memory_df.index)] = np.hstack((prev_obs, [i_episode, action, ep_reward]))\n",
    "        prev_reward = reward\n",
    "        prev_obs = obs"
   ]
  },
  {
   "cell_type": "code",
   "execution_count": 6,
   "id": "c7c4d9c1",
   "metadata": {},
   "outputs": [],
   "source": [
    "memory_df.to_csv('random_data_ram.csv', index=False)"
   ]
  },
  {
   "cell_type": "code",
   "execution_count": 6,
   "id": "99eb4711",
   "metadata": {},
   "outputs": [],
   "source": [
    "data = pd.read_csv('random_data_ram1.csv')"
   ]
  },
  {
   "cell_type": "code",
   "execution_count": 7,
   "id": "58b0fd94",
   "metadata": {},
   "outputs": [
    {
     "data": {
      "text/plain": [
       "111.0"
      ]
     },
     "execution_count": 7,
     "metadata": {},
     "output_type": "execute_result"
    }
   ],
   "source": [
    "data.groupby(by='episode')['hits'].max().sum()"
   ]
  },
  {
   "cell_type": "markdown",
   "id": "1db412ab",
   "metadata": {},
   "source": [
    "## Epsilon Greedy"
   ]
  },
  {
   "cell_type": "code",
   "execution_count": 1,
   "id": "176c7729",
   "metadata": {},
   "outputs": [],
   "source": [
    "from tensorflow.keras.models import load_model\n",
    "from helper_funcs import model_input\n",
    "import pandas as pd\n",
    "import numpy as np\n",
    "import gym"
   ]
  },
  {
   "cell_type": "code",
   "execution_count": 2,
   "id": "1e166e2c",
   "metadata": {},
   "outputs": [
    {
     "name": "stdout",
     "output_type": "stream",
     "text": [
      "Model Loaded\n"
     ]
    },
    {
     "data": {
      "text/plain": [
       "(2968811710, 3677149159)"
      ]
     },
     "execution_count": 2,
     "metadata": {},
     "output_type": "execute_result"
    }
   ],
   "source": [
    "randomness = False\n",
    "path = 'C:/Users/INTERN/Downloads/VISHESH/DATA/'\n",
    "try:\n",
    "    if not randomness:\n",
    "        model = load_model('model1_5')\n",
    "        print('Model Loaded')\n",
    "except:\n",
    "    randomness = True\n",
    "\n",
    "env = gym.make('Breakout-ram-v0')\n",
    "np.random.seed(0)\n",
    "env.seed(0)"
   ]
  },
  {
   "cell_type": "code",
   "execution_count": 3,
   "id": "b48daaae",
   "metadata": {},
   "outputs": [
    {
     "ename": "KeyboardInterrupt",
     "evalue": "",
     "output_type": "error",
     "traceback": [
      "\u001b[1;31m---------------------------------------------------------------------------\u001b[0m",
      "\u001b[1;31mKeyboardInterrupt\u001b[0m                         Traceback (most recent call last)",
      "\u001b[1;32md:\\Projects\\Atari-Breakout-Game\\Breakout_ram.ipynb Cell 10'\u001b[0m in \u001b[0;36m<cell line: 9>\u001b[1;34m()\u001b[0m\n\u001b[0;32m     <a href='vscode-notebook-cell:/d%3A/Projects/Atari-Breakout-Game/Breakout_ram.ipynb#ch0000009?line=18'>19</a>\u001b[0m     action \u001b[39m=\u001b[39m env\u001b[39m.\u001b[39maction_space\u001b[39m.\u001b[39msample()\n\u001b[0;32m     <a href='vscode-notebook-cell:/d%3A/Projects/Atari-Breakout-Game/Breakout_ram.ipynb#ch0000009?line=19'>20</a>\u001b[0m \u001b[39melse\u001b[39;00m:\n\u001b[1;32m---> <a href='vscode-notebook-cell:/d%3A/Projects/Atari-Breakout-Game/Breakout_ram.ipynb#ch0000009?line=20'>21</a>\u001b[0m     x \u001b[39m=\u001b[39m model\u001b[39m.\u001b[39;49mpredict(model_input(prev_obs, \u001b[39m4\u001b[39;49m))\n\u001b[0;32m     <a href='vscode-notebook-cell:/d%3A/Projects/Atari-Breakout-Game/Breakout_ram.ipynb#ch0000009?line=21'>22</a>\u001b[0m     action \u001b[39m=\u001b[39m np\u001b[39m.\u001b[39margmax(x)\n\u001b[0;32m     <a href='vscode-notebook-cell:/d%3A/Projects/Atari-Breakout-Game/Breakout_ram.ipynb#ch0000009?line=22'>23</a>\u001b[0m     \u001b[39m# break\u001b[39;00m\n",
      "File \u001b[1;32m~\\anaconda3\\envs\\tf_gpu\\lib\\site-packages\\tensorflow\\python\\keras\\engine\\training.py:1745\u001b[0m, in \u001b[0;36mModel.predict\u001b[1;34m(self, x, batch_size, verbose, steps, callbacks, max_queue_size, workers, use_multiprocessing)\u001b[0m\n\u001b[0;32m   <a href='file:///c%3A/Users/binda/anaconda3/envs/tf_gpu/lib/site-packages/tensorflow/python/keras/engine/training.py?line=1742'>1743</a>\u001b[0m callbacks\u001b[39m.\u001b[39mon_predict_begin()\n\u001b[0;32m   <a href='file:///c%3A/Users/binda/anaconda3/envs/tf_gpu/lib/site-packages/tensorflow/python/keras/engine/training.py?line=1743'>1744</a>\u001b[0m batch_outputs \u001b[39m=\u001b[39m \u001b[39mNone\u001b[39;00m\n\u001b[1;32m-> <a href='file:///c%3A/Users/binda/anaconda3/envs/tf_gpu/lib/site-packages/tensorflow/python/keras/engine/training.py?line=1744'>1745</a>\u001b[0m \u001b[39mfor\u001b[39;00m _, iterator \u001b[39min\u001b[39;00m data_handler\u001b[39m.\u001b[39menumerate_epochs():  \u001b[39m# Single epoch.\u001b[39;00m\n\u001b[0;32m   <a href='file:///c%3A/Users/binda/anaconda3/envs/tf_gpu/lib/site-packages/tensorflow/python/keras/engine/training.py?line=1745'>1746</a>\u001b[0m   \u001b[39mwith\u001b[39;00m data_handler\u001b[39m.\u001b[39mcatch_stop_iteration():\n\u001b[0;32m   <a href='file:///c%3A/Users/binda/anaconda3/envs/tf_gpu/lib/site-packages/tensorflow/python/keras/engine/training.py?line=1746'>1747</a>\u001b[0m     \u001b[39mfor\u001b[39;00m step \u001b[39min\u001b[39;00m data_handler\u001b[39m.\u001b[39msteps():\n",
      "File \u001b[1;32m~\\anaconda3\\envs\\tf_gpu\\lib\\site-packages\\tensorflow\\python\\keras\\engine\\data_adapter.py:1197\u001b[0m, in \u001b[0;36mDataHandler.enumerate_epochs\u001b[1;34m(self)\u001b[0m\n\u001b[0;32m   <a href='file:///c%3A/Users/binda/anaconda3/envs/tf_gpu/lib/site-packages/tensorflow/python/keras/engine/data_adapter.py?line=1194'>1195</a>\u001b[0m \u001b[39m\"\"\"Yields `(epoch, tf.data.Iterator)`.\"\"\"\u001b[39;00m\n\u001b[0;32m   <a href='file:///c%3A/Users/binda/anaconda3/envs/tf_gpu/lib/site-packages/tensorflow/python/keras/engine/data_adapter.py?line=1195'>1196</a>\u001b[0m \u001b[39mwith\u001b[39;00m \u001b[39mself\u001b[39m\u001b[39m.\u001b[39m_truncate_execution_to_epoch():\n\u001b[1;32m-> <a href='file:///c%3A/Users/binda/anaconda3/envs/tf_gpu/lib/site-packages/tensorflow/python/keras/engine/data_adapter.py?line=1196'>1197</a>\u001b[0m   data_iterator \u001b[39m=\u001b[39m \u001b[39miter\u001b[39;49m(\u001b[39mself\u001b[39;49m\u001b[39m.\u001b[39;49m_dataset)\n\u001b[0;32m   <a href='file:///c%3A/Users/binda/anaconda3/envs/tf_gpu/lib/site-packages/tensorflow/python/keras/engine/data_adapter.py?line=1197'>1198</a>\u001b[0m   \u001b[39mfor\u001b[39;00m epoch \u001b[39min\u001b[39;00m \u001b[39mrange\u001b[39m(\u001b[39mself\u001b[39m\u001b[39m.\u001b[39m_initial_epoch, \u001b[39mself\u001b[39m\u001b[39m.\u001b[39m_epochs):\n\u001b[0;32m   <a href='file:///c%3A/Users/binda/anaconda3/envs/tf_gpu/lib/site-packages/tensorflow/python/keras/engine/data_adapter.py?line=1198'>1199</a>\u001b[0m     \u001b[39mif\u001b[39;00m \u001b[39mself\u001b[39m\u001b[39m.\u001b[39m_insufficient_data:  \u001b[39m# Set by `catch_stop_iteration`.\u001b[39;00m\n",
      "File \u001b[1;32m~\\anaconda3\\envs\\tf_gpu\\lib\\site-packages\\tensorflow\\python\\data\\ops\\dataset_ops.py:411\u001b[0m, in \u001b[0;36mDatasetV2.__iter__\u001b[1;34m(self)\u001b[0m\n\u001b[0;32m    <a href='file:///c%3A/Users/binda/anaconda3/envs/tf_gpu/lib/site-packages/tensorflow/python/data/ops/dataset_ops.py?line=408'>409</a>\u001b[0m \u001b[39mif\u001b[39;00m context\u001b[39m.\u001b[39mexecuting_eagerly() \u001b[39mor\u001b[39;00m ops\u001b[39m.\u001b[39minside_function():\n\u001b[0;32m    <a href='file:///c%3A/Users/binda/anaconda3/envs/tf_gpu/lib/site-packages/tensorflow/python/data/ops/dataset_ops.py?line=409'>410</a>\u001b[0m   \u001b[39mwith\u001b[39;00m ops\u001b[39m.\u001b[39mcolocate_with(\u001b[39mself\u001b[39m\u001b[39m.\u001b[39m_variant_tensor):\n\u001b[1;32m--> <a href='file:///c%3A/Users/binda/anaconda3/envs/tf_gpu/lib/site-packages/tensorflow/python/data/ops/dataset_ops.py?line=410'>411</a>\u001b[0m     \u001b[39mreturn\u001b[39;00m iterator_ops\u001b[39m.\u001b[39;49mOwnedIterator(\u001b[39mself\u001b[39;49m)\n\u001b[0;32m    <a href='file:///c%3A/Users/binda/anaconda3/envs/tf_gpu/lib/site-packages/tensorflow/python/data/ops/dataset_ops.py?line=411'>412</a>\u001b[0m \u001b[39melse\u001b[39;00m:\n\u001b[0;32m    <a href='file:///c%3A/Users/binda/anaconda3/envs/tf_gpu/lib/site-packages/tensorflow/python/data/ops/dataset_ops.py?line=412'>413</a>\u001b[0m   \u001b[39mraise\u001b[39;00m \u001b[39mRuntimeError\u001b[39;00m(\u001b[39m\"\u001b[39m\u001b[39m__iter__() is only supported inside of tf.function \u001b[39m\u001b[39m\"\u001b[39m\n\u001b[0;32m    <a href='file:///c%3A/Users/binda/anaconda3/envs/tf_gpu/lib/site-packages/tensorflow/python/data/ops/dataset_ops.py?line=413'>414</a>\u001b[0m                      \u001b[39m\"\u001b[39m\u001b[39mor when eager execution is enabled.\u001b[39m\u001b[39m\"\u001b[39m)\n",
      "File \u001b[1;32m~\\anaconda3\\envs\\tf_gpu\\lib\\site-packages\\tensorflow\\python\\data\\ops\\iterator_ops.py:696\u001b[0m, in \u001b[0;36mOwnedIterator.__init__\u001b[1;34m(self, dataset, components, element_spec)\u001b[0m\n\u001b[0;32m    <a href='file:///c%3A/Users/binda/anaconda3/envs/tf_gpu/lib/site-packages/tensorflow/python/data/ops/iterator_ops.py?line=693'>694</a>\u001b[0m \u001b[39mif\u001b[39;00m (components \u001b[39mis\u001b[39;00m \u001b[39mnot\u001b[39;00m \u001b[39mNone\u001b[39;00m \u001b[39mor\u001b[39;00m element_spec \u001b[39mis\u001b[39;00m \u001b[39mnot\u001b[39;00m \u001b[39mNone\u001b[39;00m):\n\u001b[0;32m    <a href='file:///c%3A/Users/binda/anaconda3/envs/tf_gpu/lib/site-packages/tensorflow/python/data/ops/iterator_ops.py?line=694'>695</a>\u001b[0m   \u001b[39mraise\u001b[39;00m \u001b[39mValueError\u001b[39;00m(error_message)\n\u001b[1;32m--> <a href='file:///c%3A/Users/binda/anaconda3/envs/tf_gpu/lib/site-packages/tensorflow/python/data/ops/iterator_ops.py?line=695'>696</a>\u001b[0m \u001b[39mself\u001b[39;49m\u001b[39m.\u001b[39;49m_create_iterator(dataset)\n",
      "File \u001b[1;32m~\\anaconda3\\envs\\tf_gpu\\lib\\site-packages\\tensorflow\\python\\data\\ops\\iterator_ops.py:719\u001b[0m, in \u001b[0;36mOwnedIterator._create_iterator\u001b[1;34m(self, dataset)\u001b[0m\n\u001b[0;32m    <a href='file:///c%3A/Users/binda/anaconda3/envs/tf_gpu/lib/site-packages/tensorflow/python/data/ops/iterator_ops.py?line=713'>714</a>\u001b[0m \u001b[39mwith\u001b[39;00m ops\u001b[39m.\u001b[39mcolocate_with(ds_variant):\n\u001b[0;32m    <a href='file:///c%3A/Users/binda/anaconda3/envs/tf_gpu/lib/site-packages/tensorflow/python/data/ops/iterator_ops.py?line=714'>715</a>\u001b[0m   \u001b[39mself\u001b[39m\u001b[39m.\u001b[39m_iterator_resource, \u001b[39mself\u001b[39m\u001b[39m.\u001b[39m_deleter \u001b[39m=\u001b[39m (\n\u001b[0;32m    <a href='file:///c%3A/Users/binda/anaconda3/envs/tf_gpu/lib/site-packages/tensorflow/python/data/ops/iterator_ops.py?line=715'>716</a>\u001b[0m       gen_dataset_ops\u001b[39m.\u001b[39manonymous_iterator_v2(\n\u001b[0;32m    <a href='file:///c%3A/Users/binda/anaconda3/envs/tf_gpu/lib/site-packages/tensorflow/python/data/ops/iterator_ops.py?line=716'>717</a>\u001b[0m           output_types\u001b[39m=\u001b[39m\u001b[39mself\u001b[39m\u001b[39m.\u001b[39m_flat_output_types,\n\u001b[0;32m    <a href='file:///c%3A/Users/binda/anaconda3/envs/tf_gpu/lib/site-packages/tensorflow/python/data/ops/iterator_ops.py?line=717'>718</a>\u001b[0m           output_shapes\u001b[39m=\u001b[39m\u001b[39mself\u001b[39m\u001b[39m.\u001b[39m_flat_output_shapes))\n\u001b[1;32m--> <a href='file:///c%3A/Users/binda/anaconda3/envs/tf_gpu/lib/site-packages/tensorflow/python/data/ops/iterator_ops.py?line=718'>719</a>\u001b[0m   gen_dataset_ops\u001b[39m.\u001b[39;49mmake_iterator(ds_variant, \u001b[39mself\u001b[39;49m\u001b[39m.\u001b[39;49m_iterator_resource)\n\u001b[0;32m    <a href='file:///c%3A/Users/binda/anaconda3/envs/tf_gpu/lib/site-packages/tensorflow/python/data/ops/iterator_ops.py?line=719'>720</a>\u001b[0m   \u001b[39m# Delete the resource when this object is deleted\u001b[39;00m\n\u001b[0;32m    <a href='file:///c%3A/Users/binda/anaconda3/envs/tf_gpu/lib/site-packages/tensorflow/python/data/ops/iterator_ops.py?line=720'>721</a>\u001b[0m   \u001b[39mself\u001b[39m\u001b[39m.\u001b[39m_resource_deleter \u001b[39m=\u001b[39m IteratorResourceDeleter(\n\u001b[0;32m    <a href='file:///c%3A/Users/binda/anaconda3/envs/tf_gpu/lib/site-packages/tensorflow/python/data/ops/iterator_ops.py?line=721'>722</a>\u001b[0m       handle\u001b[39m=\u001b[39m\u001b[39mself\u001b[39m\u001b[39m.\u001b[39m_iterator_resource,\n\u001b[0;32m    <a href='file:///c%3A/Users/binda/anaconda3/envs/tf_gpu/lib/site-packages/tensorflow/python/data/ops/iterator_ops.py?line=722'>723</a>\u001b[0m       deleter\u001b[39m=\u001b[39m\u001b[39mself\u001b[39m\u001b[39m.\u001b[39m_deleter)\n",
      "File \u001b[1;32m~\\anaconda3\\envs\\tf_gpu\\lib\\site-packages\\tensorflow\\python\\ops\\gen_dataset_ops.py:3119\u001b[0m, in \u001b[0;36mmake_iterator\u001b[1;34m(dataset, iterator, name)\u001b[0m\n\u001b[0;32m   <a href='file:///c%3A/Users/binda/anaconda3/envs/tf_gpu/lib/site-packages/tensorflow/python/ops/gen_dataset_ops.py?line=3116'>3117</a>\u001b[0m \u001b[39mif\u001b[39;00m tld\u001b[39m.\u001b[39mis_eager:\n\u001b[0;32m   <a href='file:///c%3A/Users/binda/anaconda3/envs/tf_gpu/lib/site-packages/tensorflow/python/ops/gen_dataset_ops.py?line=3117'>3118</a>\u001b[0m   \u001b[39mtry\u001b[39;00m:\n\u001b[1;32m-> <a href='file:///c%3A/Users/binda/anaconda3/envs/tf_gpu/lib/site-packages/tensorflow/python/ops/gen_dataset_ops.py?line=3118'>3119</a>\u001b[0m     _result \u001b[39m=\u001b[39m pywrap_tfe\u001b[39m.\u001b[39;49mTFE_Py_FastPathExecute(\n\u001b[0;32m   <a href='file:///c%3A/Users/binda/anaconda3/envs/tf_gpu/lib/site-packages/tensorflow/python/ops/gen_dataset_ops.py?line=3119'>3120</a>\u001b[0m       _ctx, \u001b[39m\"\u001b[39;49m\u001b[39mMakeIterator\u001b[39;49m\u001b[39m\"\u001b[39;49m, name, dataset, iterator)\n\u001b[0;32m   <a href='file:///c%3A/Users/binda/anaconda3/envs/tf_gpu/lib/site-packages/tensorflow/python/ops/gen_dataset_ops.py?line=3120'>3121</a>\u001b[0m     \u001b[39mreturn\u001b[39;00m _result\n\u001b[0;32m   <a href='file:///c%3A/Users/binda/anaconda3/envs/tf_gpu/lib/site-packages/tensorflow/python/ops/gen_dataset_ops.py?line=3121'>3122</a>\u001b[0m   \u001b[39mexcept\u001b[39;00m _core\u001b[39m.\u001b[39m_NotOkStatusException \u001b[39mas\u001b[39;00m e:\n",
      "\u001b[1;31mKeyboardInterrupt\u001b[0m: "
     ]
    }
   ],
   "source": [
    "cols = ['Obs'+str(i) for i in range(128)]\n",
    "cols.extend(['episode', 'action', 'reward', 'hits'])\n",
    "\n",
    "episodes = 100\n",
    "discount_factor = 0.9\n",
    "epsilon = 0\n",
    "memory_df = pd.DataFrame(columns=cols)\n",
    "\n",
    "for i_episode in range(episodes):\n",
    "    done = False\n",
    "    obs = env.reset()\n",
    "    ep_reward, prev_reward, hits = 0, 0, 0\n",
    "    for i in range(10):\n",
    "        action = env.action_space.sample()\n",
    "        prev_obs, _, _, _ = env.step(action)\n",
    "    \n",
    "    while not done:\n",
    "        if np.random.rand() < epsilon or randomness:\n",
    "            action = env.action_space.sample()\n",
    "        else:\n",
    "            x = model.predict(model_input(prev_obs, 4))\n",
    "            action = np.argmax(x)\n",
    "            # break\n",
    "        obs, reward, done, info = env.step(action)\n",
    "        hits += reward\n",
    "        ep_reward = reward*10 + ep_reward*discount_factor - .1\n",
    "        memory_df.loc[len(memory_df.index)] = np.hstack((prev_obs, [i_episode, action, ep_reward, hits]))\n",
    "        prev_reward = reward\n",
    "        prev_obs = obs\n",
    "    print(i_episode, hits)"
   ]
  },
  {
   "cell_type": "code",
   "execution_count": 32,
   "id": "71687698",
   "metadata": {},
   "outputs": [
    {
     "name": "stdout",
     "output_type": "stream",
     "text": [
      "(24948, 132)\n"
     ]
    }
   ],
   "source": [
    "memory_df.to_csv('random_data_ram6.csv', index=False)\n",
    "print(memory_df.shape)"
   ]
  },
  {
   "cell_type": "code",
   "execution_count": null,
   "id": "31e6dc8f",
   "metadata": {},
   "outputs": [
    {
     "data": {
      "text/plain": [
       "130.0"
      ]
     },
     "execution_count": 33,
     "metadata": {},
     "output_type": "execute_result"
    }
   ],
   "source": [
    "memory_df.groupby(by='episode')['hits'].max().sum()"
   ]
  }
 ],
 "metadata": {
  "kernelspec": {
   "display_name": "Python 3 (ipykernel)",
   "language": "python",
   "name": "python3"
  },
  "language_info": {
   "codemirror_mode": {
    "name": "ipython",
    "version": 3
   },
   "file_extension": ".py",
   "mimetype": "text/x-python",
   "name": "python",
   "nbconvert_exporter": "python",
   "pygments_lexer": "ipython3",
   "version": "3.9.12"
  }
 },
 "nbformat": 4,
 "nbformat_minor": 5
}
