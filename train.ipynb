{
 "cells": [
  {
   "cell_type": "code",
   "execution_count": 30,
   "metadata": {
    "executionInfo": {
     "elapsed": 2884,
     "status": "ok",
     "timestamp": 1650430748236,
     "user": {
      "displayName": "Vishesh Bindal",
      "userId": "07026684260814533301"
     },
     "user_tz": -330
    },
    "id": "IKgU4PGlUV5W"
   },
   "outputs": [],
   "source": [
    "from models import Model1\n",
    "from helper_funcs import *\n",
    "from tensorflow.keras import losses, optimizers, metrics\n",
    "from sklearn.model_selection import train_test_split"
   ]
  },
  {
   "cell_type": "code",
   "execution_count": 53,
   "metadata": {
    "id": "b6eM1BNyUV5a"
   },
   "outputs": [],
   "source": [
    "# path = 'D:/Projects/Atari breakout game DATA/'\n",
    "# data = pd.read_csv(path + 'random_data.csv')\n",
    "\n",
    "path = 'D:/Projects/Atari-Breakout-Game/'\n",
    "data = pd.read_csv(path + 'random_data_ram1.csv')"
   ]
  },
  {
   "cell_type": "code",
   "execution_count": 54,
   "metadata": {
    "id": "mEjlLdNEUV5b",
    "outputId": "e7014074-ebac-4db5-ef3b-651d6922839d"
   },
   "outputs": [
    {
     "data": {
      "text/plain": [
       "(23726, 132)"
      ]
     },
     "execution_count": 54,
     "metadata": {},
     "output_type": "execute_result"
    }
   ],
   "source": [
    "data.shape"
   ]
  },
  {
   "cell_type": "code",
   "execution_count": 55,
   "metadata": {
    "id": "5tWf1JAcUV5c"
   },
   "outputs": [],
   "source": [
    "Y = data['reward'].to_numpy() - data['reward'].min()\n",
    "A = data['action'].to_numpy()\n",
    "S = data.drop(columns=['reward', 'episode', 'action', 'hits']).to_numpy()"
   ]
  },
  {
   "cell_type": "code",
   "execution_count": 56,
   "metadata": {},
   "outputs": [
    {
     "data": {
      "text/plain": [
       "array([8.99999998e-01, 8.09999998e-01, 7.28999998e-01, ...,\n",
       "       4.06067930e-04, 3.65460958e-04, 3.28914682e-04])"
      ]
     },
     "execution_count": 56,
     "metadata": {},
     "output_type": "execute_result"
    }
   ],
   "source": [
    "Y"
   ]
  },
  {
   "cell_type": "code",
   "execution_count": 57,
   "metadata": {},
   "outputs": [],
   "source": [
    "S /= 255.\n",
    "A = A*2 - 3"
   ]
  },
  {
   "cell_type": "code",
   "execution_count": 60,
   "metadata": {},
   "outputs": [],
   "source": [
    "X = np.hstack((S, np.expand_dims(A, axis=-1)))"
   ]
  },
  {
   "cell_type": "code",
   "execution_count": 61,
   "metadata": {},
   "outputs": [],
   "source": [
    "X_train, X_test, Y_train, Y_test = train_test_split(X, Y, test_size=.3)"
   ]
  },
  {
   "cell_type": "code",
   "execution_count": 62,
   "metadata": {
    "id": "XFZGIAXEUV5Z",
    "outputId": "f62176ef-7a74-4a8c-b6b5-30a1fc3b94c8"
   },
   "outputs": [
    {
     "name": "stdout",
     "output_type": "stream",
     "text": [
      "Model: \"model_2\"\n",
      "_________________________________________________________________\n",
      "Layer (type)                 Output Shape              Param #   \n",
      "=================================================================\n",
      "input_3 (InputLayer)         [(None, 129)]             0         \n",
      "_________________________________________________________________\n",
      "dense_16 (Dense)             (None, 256)               33280     \n",
      "_________________________________________________________________\n",
      "batch_normalization_16 (Batc (None, 256)               1024      \n",
      "_________________________________________________________________\n",
      "activation_16 (Activation)   (None, 256)               0         \n",
      "_________________________________________________________________\n",
      "dropout_16 (Dropout)         (None, 256)               0         \n",
      "_________________________________________________________________\n",
      "dense_17 (Dense)             (None, 512)               131584    \n",
      "_________________________________________________________________\n",
      "batch_normalization_17 (Batc (None, 512)               2048      \n",
      "_________________________________________________________________\n",
      "activation_17 (Activation)   (None, 512)               0         \n",
      "_________________________________________________________________\n",
      "dropout_17 (Dropout)         (None, 512)               0         \n",
      "_________________________________________________________________\n",
      "dense_18 (Dense)             (None, 1024)              525312    \n",
      "_________________________________________________________________\n",
      "batch_normalization_18 (Batc (None, 1024)              4096      \n",
      "_________________________________________________________________\n",
      "activation_18 (Activation)   (None, 1024)              0         \n",
      "_________________________________________________________________\n",
      "dropout_18 (Dropout)         (None, 1024)              0         \n",
      "_________________________________________________________________\n",
      "dense_19 (Dense)             (None, 256)               262400    \n",
      "_________________________________________________________________\n",
      "batch_normalization_19 (Batc (None, 256)               1024      \n",
      "_________________________________________________________________\n",
      "activation_19 (Activation)   (None, 256)               0         \n",
      "_________________________________________________________________\n",
      "dropout_19 (Dropout)         (None, 256)               0         \n",
      "_________________________________________________________________\n",
      "dense_20 (Dense)             (None, 128)               32896     \n",
      "_________________________________________________________________\n",
      "batch_normalization_20 (Batc (None, 128)               512       \n",
      "_________________________________________________________________\n",
      "activation_20 (Activation)   (None, 128)               0         \n",
      "_________________________________________________________________\n",
      "dropout_20 (Dropout)         (None, 128)               0         \n",
      "_________________________________________________________________\n",
      "dense_21 (Dense)             (None, 256)               33024     \n",
      "_________________________________________________________________\n",
      "batch_normalization_21 (Batc (None, 256)               1024      \n",
      "_________________________________________________________________\n",
      "activation_21 (Activation)   (None, 256)               0         \n",
      "_________________________________________________________________\n",
      "dropout_21 (Dropout)         (None, 256)               0         \n",
      "_________________________________________________________________\n",
      "dense_22 (Dense)             (None, 32)                8224      \n",
      "_________________________________________________________________\n",
      "batch_normalization_22 (Batc (None, 32)                128       \n",
      "_________________________________________________________________\n",
      "activation_22 (Activation)   (None, 32)                0         \n",
      "_________________________________________________________________\n",
      "dropout_22 (Dropout)         (None, 32)                0         \n",
      "_________________________________________________________________\n",
      "dense_23 (Dense)             (None, 1)                 33        \n",
      "_________________________________________________________________\n",
      "batch_normalization_23 (Batc (None, 1)                 4         \n",
      "_________________________________________________________________\n",
      "activation_23 (Activation)   (None, 1)                 0         \n",
      "_________________________________________________________________\n",
      "dropout_23 (Dropout)         (None, 1)                 0         \n",
      "=================================================================\n",
      "Total params: 1,036,613\n",
      "Trainable params: 1,031,683\n",
      "Non-trainable params: 4,930\n",
      "_________________________________________________________________\n",
      "None\n"
     ]
    }
   ],
   "source": [
    "model_ = Model1()\n",
    "model = model_.model(tuple(X_train.shape[1:]))\n",
    "print(model.summary())"
   ]
  },
  {
   "cell_type": "code",
   "execution_count": 63,
   "metadata": {
    "id": "-IhcakJWUV5a"
   },
   "outputs": [],
   "source": [
    "lr = 0.003\n",
    "model.compile(optimizer=optimizers.RMSprop(learning_rate=lr), \n",
    "                loss=losses.MeanAbsoluteError(), \n",
    "                metrics=metrics.MeanAbsoluteError())"
   ]
  },
  {
   "cell_type": "code",
   "execution_count": 64,
   "metadata": {
    "id": "fBjWiK5KUV5e",
    "outputId": "89edbb36-f7b7-4a28-fac5-19623831343d"
   },
   "outputs": [
    {
     "name": "stdout",
     "output_type": "stream",
     "text": [
      "Epoch 1/8\n",
      "260/260 [==============================] - 13s 21ms/step - loss: 0.4663 - mean_absolute_error: 0.4663\n",
      "Epoch 2/8\n",
      "260/260 [==============================] - 6s 21ms/step - loss: 0.3256 - mean_absolute_error: 0.3256\n",
      "Epoch 3/8\n",
      "260/260 [==============================] - 5s 21ms/step - loss: 0.2846 - mean_absolute_error: 0.2846\n",
      "Epoch 4/8\n",
      "260/260 [==============================] - 6s 22ms/step - loss: 0.2745 - mean_absolute_error: 0.2745\n",
      "Epoch 5/8\n",
      "260/260 [==============================] - 6s 21ms/step - loss: 0.2625 - mean_absolute_error: 0.2625\n",
      "Epoch 6/8\n",
      "260/260 [==============================] - 5s 21ms/step - loss: 0.2564 - mean_absolute_error: 0.2564\n",
      "Epoch 7/8\n",
      "260/260 [==============================] - 6s 21ms/step - loss: 0.2496 - mean_absolute_error: 0.2496\n",
      "Epoch 8/8\n",
      "260/260 [==============================] - 5s 21ms/step - loss: 0.2419 - mean_absolute_error: 0.2419\n"
     ]
    },
    {
     "data": {
      "text/plain": [
       "<tensorflow.python.keras.callbacks.History at 0x191142b44c0>"
      ]
     },
     "execution_count": 64,
     "metadata": {},
     "output_type": "execute_result"
    }
   ],
   "source": [
    "model.fit(X_train, Y_train, epochs=8, batch_size=64)"
   ]
  },
  {
   "cell_type": "code",
   "execution_count": 65,
   "metadata": {},
   "outputs": [
    {
     "name": "stdout",
     "output_type": "stream",
     "text": [
      "223/223 [==============================] - 15s 4ms/step - loss: 0.3923 - mean_absolute_error: 0.3923\n"
     ]
    },
    {
     "data": {
      "text/plain": [
       "[0.3922668695449829, 0.3922668695449829]"
      ]
     },
     "execution_count": 65,
     "metadata": {},
     "output_type": "execute_result"
    }
   ],
   "source": [
    "model.evaluate(X_test, Y_test)"
   ]
  },
  {
   "cell_type": "code",
   "execution_count": 66,
   "metadata": {
    "id": "ni1IdIx-UV5e",
    "outputId": "b0485205-b75b-4368-a125-2b050e81faf9"
   },
   "outputs": [
    {
     "name": "stdout",
     "output_type": "stream",
     "text": [
      "INFO:tensorflow:Assets written to: model1\\assets\n"
     ]
    }
   ],
   "source": [
    "model.save('model2')"
   ]
  },
  {
   "cell_type": "code",
   "execution_count": null,
   "metadata": {},
   "outputs": [],
   "source": []
  }
 ],
 "metadata": {
  "colab": {
   "name": "Model.ipynb",
   "provenance": []
  },
  "interpreter": {
   "hash": "bfc70696e28b1f7d97a8c59e12040c864602fc90b0ede793198864df55d298fd"
  },
  "kernelspec": {
   "display_name": "Python 3 (ipykernel)",
   "language": "python",
   "name": "python3"
  },
  "language_info": {
   "codemirror_mode": {
    "name": "ipython",
    "version": 3
   },
   "file_extension": ".py",
   "mimetype": "text/x-python",
   "name": "python",
   "nbconvert_exporter": "python",
   "pygments_lexer": "ipython3",
   "version": "3.9.12"
  }
 },
 "nbformat": 4,
 "nbformat_minor": 1
}
