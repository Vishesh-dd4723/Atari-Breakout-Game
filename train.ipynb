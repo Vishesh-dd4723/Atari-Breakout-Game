{
 "cells": [
  {
   "cell_type": "code",
   "execution_count": 1,
   "metadata": {
    "executionInfo": {
     "elapsed": 2884,
     "status": "ok",
     "timestamp": 1650430748236,
     "user": {
      "displayName": "Vishesh Bindal",
      "userId": "07026684260814533301"
     },
     "user_tz": -330
    },
    "id": "IKgU4PGlUV5W"
   },
   "outputs": [],
   "source": [
    "from models import Model1\n",
    "from helper_funcs import *\n",
    "from tensorflow.keras import losses, optimizers, metrics\n",
    "from sklearn.model_selection import train_test_split"
   ]
  },
  {
   "cell_type": "code",
   "execution_count": 83,
   "metadata": {
    "id": "b6eM1BNyUV5a"
   },
   "outputs": [],
   "source": [
    "# path = 'D:/Projects/Atari breakout game DATA/'\n",
    "# data = pd.read_csv(path + 'random_data.csv')\n",
    "\n",
    "path = 'D:/Projects/Atari-Breakout-Game/'\n",
    "data = pd.read_csv(path + 'random_data_ram5.csv')"
   ]
  },
  {
   "cell_type": "code",
   "execution_count": 84,
   "metadata": {
    "id": "mEjlLdNEUV5b",
    "outputId": "e7014074-ebac-4db5-ef3b-651d6922839d"
   },
   "outputs": [
    {
     "data": {
      "text/plain": [
       "(25848, 132)"
      ]
     },
     "execution_count": 84,
     "metadata": {},
     "output_type": "execute_result"
    }
   ],
   "source": [
    "data.shape"
   ]
  },
  {
   "cell_type": "code",
   "execution_count": 85,
   "metadata": {
    "id": "5tWf1JAcUV5c"
   },
   "outputs": [],
   "source": [
    "Y = data['reward'].to_numpy() - data['reward'].min()\n",
    "A = data['action'].to_numpy()\n",
    "S = data.drop(columns=['reward', 'episode', 'action', 'hits']).to_numpy()"
   ]
  },
  {
   "cell_type": "code",
   "execution_count": 86,
   "metadata": {},
   "outputs": [
    {
     "data": {
      "text/plain": [
       "array([9.00000000e+00, 8.10000000e+00, 7.29000000e+00, ...,\n",
       "       9.26749877e-09, 8.29972180e-09, 7.42872430e-09])"
      ]
     },
     "execution_count": 86,
     "metadata": {},
     "output_type": "execute_result"
    }
   ],
   "source": [
    "Y"
   ]
  },
  {
   "cell_type": "code",
   "execution_count": 87,
   "metadata": {},
   "outputs": [],
   "source": [
    "S /= 255.\n",
    "A = A*2 - 3"
   ]
  },
  {
   "cell_type": "code",
   "execution_count": 88,
   "metadata": {},
   "outputs": [],
   "source": [
    "X = np.hstack((S, np.expand_dims(A, axis=-1)))"
   ]
  },
  {
   "cell_type": "code",
   "execution_count": 89,
   "metadata": {},
   "outputs": [],
   "source": [
    "X_train, X_test, Y_train, Y_test = train_test_split(X, Y, test_size=.3)"
   ]
  },
  {
   "cell_type": "code",
   "execution_count": 90,
   "metadata": {
    "id": "XFZGIAXEUV5Z",
    "outputId": "f62176ef-7a74-4a8c-b6b5-30a1fc3b94c8"
   },
   "outputs": [
    {
     "name": "stdout",
     "output_type": "stream",
     "text": [
      "Model: \"model_5\"\n",
      "_________________________________________________________________\n",
      "Layer (type)                 Output Shape              Param #   \n",
      "=================================================================\n",
      "input_6 (InputLayer)         [(None, 129)]             0         \n",
      "_________________________________________________________________\n",
      "dense_40 (Dense)             (None, 256)               33280     \n",
      "_________________________________________________________________\n",
      "batch_normalization_40 (Batc (None, 256)               1024      \n",
      "_________________________________________________________________\n",
      "activation_40 (Activation)   (None, 256)               0         \n",
      "_________________________________________________________________\n",
      "dropout_40 (Dropout)         (None, 256)               0         \n",
      "_________________________________________________________________\n",
      "dense_41 (Dense)             (None, 512)               131584    \n",
      "_________________________________________________________________\n",
      "batch_normalization_41 (Batc (None, 512)               2048      \n",
      "_________________________________________________________________\n",
      "activation_41 (Activation)   (None, 512)               0         \n",
      "_________________________________________________________________\n",
      "dropout_41 (Dropout)         (None, 512)               0         \n",
      "_________________________________________________________________\n",
      "dense_42 (Dense)             (None, 1024)              525312    \n",
      "_________________________________________________________________\n",
      "batch_normalization_42 (Batc (None, 1024)              4096      \n",
      "_________________________________________________________________\n",
      "activation_42 (Activation)   (None, 1024)              0         \n",
      "_________________________________________________________________\n",
      "dropout_42 (Dropout)         (None, 1024)              0         \n",
      "_________________________________________________________________\n",
      "dense_43 (Dense)             (None, 256)               262400    \n",
      "_________________________________________________________________\n",
      "batch_normalization_43 (Batc (None, 256)               1024      \n",
      "_________________________________________________________________\n",
      "activation_43 (Activation)   (None, 256)               0         \n",
      "_________________________________________________________________\n",
      "dropout_43 (Dropout)         (None, 256)               0         \n",
      "_________________________________________________________________\n",
      "dense_44 (Dense)             (None, 128)               32896     \n",
      "_________________________________________________________________\n",
      "batch_normalization_44 (Batc (None, 128)               512       \n",
      "_________________________________________________________________\n",
      "activation_44 (Activation)   (None, 128)               0         \n",
      "_________________________________________________________________\n",
      "dropout_44 (Dropout)         (None, 128)               0         \n",
      "_________________________________________________________________\n",
      "dense_45 (Dense)             (None, 256)               33024     \n",
      "_________________________________________________________________\n",
      "batch_normalization_45 (Batc (None, 256)               1024      \n",
      "_________________________________________________________________\n",
      "activation_45 (Activation)   (None, 256)               0         \n",
      "_________________________________________________________________\n",
      "dropout_45 (Dropout)         (None, 256)               0         \n",
      "_________________________________________________________________\n",
      "dense_46 (Dense)             (None, 32)                8224      \n",
      "_________________________________________________________________\n",
      "batch_normalization_46 (Batc (None, 32)                128       \n",
      "_________________________________________________________________\n",
      "activation_46 (Activation)   (None, 32)                0         \n",
      "_________________________________________________________________\n",
      "dropout_46 (Dropout)         (None, 32)                0         \n",
      "_________________________________________________________________\n",
      "dense_47 (Dense)             (None, 1)                 33        \n",
      "_________________________________________________________________\n",
      "batch_normalization_47 (Batc (None, 1)                 4         \n",
      "_________________________________________________________________\n",
      "activation_47 (Activation)   (None, 1)                 0         \n",
      "_________________________________________________________________\n",
      "dropout_47 (Dropout)         (None, 1)                 0         \n",
      "=================================================================\n",
      "Total params: 1,036,613\n",
      "Trainable params: 1,031,683\n",
      "Non-trainable params: 4,930\n",
      "_________________________________________________________________\n",
      "None\n"
     ]
    }
   ],
   "source": [
    "model_ = Model1()\n",
    "model = model_.model(tuple(X_train.shape[1:]))\n",
    "print(model.summary())"
   ]
  },
  {
   "cell_type": "code",
   "execution_count": 95,
   "metadata": {
    "id": "-IhcakJWUV5a"
   },
   "outputs": [],
   "source": [
    "lr = 0.0003\n",
    "model.compile(optimizer=optimizers.RMSprop(learning_rate=lr), \n",
    "                loss=losses.MeanAbsoluteError(), \n",
    "                metrics=metrics.MeanAbsoluteError())"
   ]
  },
  {
   "cell_type": "code",
   "execution_count": 96,
   "metadata": {
    "id": "fBjWiK5KUV5e",
    "outputId": "89edbb36-f7b7-4a28-fac5-19623831343d"
   },
   "outputs": [
    {
     "name": "stdout",
     "output_type": "stream",
     "text": [
      "Epoch 1/8\n",
      "283/283 [==============================] - 14s 23ms/step - loss: 0.7497 - mean_absolute_error: 0.7497\n",
      "Epoch 2/8\n",
      "283/283 [==============================] - 6s 20ms/step - loss: 0.7489 - mean_absolute_error: 0.7489\n",
      "Epoch 3/8\n",
      "283/283 [==============================] - 6s 20ms/step - loss: 0.7518 - mean_absolute_error: 0.7518\n",
      "Epoch 4/8\n",
      "283/283 [==============================] - 6s 21ms/step - loss: 0.7521 - mean_absolute_error: 0.7521\n",
      "Epoch 5/8\n",
      "283/283 [==============================] - 6s 20ms/step - loss: 0.7367 - mean_absolute_error: 0.7367\n",
      "Epoch 6/8\n",
      "283/283 [==============================] - 6s 21ms/step - loss: 0.7287 - mean_absolute_error: 0.7287\n",
      "Epoch 7/8\n",
      "283/283 [==============================] - 6s 21ms/step - loss: 0.7316 - mean_absolute_error: 0.7316\n",
      "Epoch 8/8\n",
      "283/283 [==============================] - 6s 21ms/step - loss: 0.7408 - mean_absolute_error: 0.7408\n"
     ]
    },
    {
     "data": {
      "text/plain": [
       "<tensorflow.python.keras.callbacks.History at 0x1d82b8022e0>"
      ]
     },
     "execution_count": 96,
     "metadata": {},
     "output_type": "execute_result"
    }
   ],
   "source": [
    "model.fit(X_train, Y_train, epochs=8, batch_size=64)"
   ]
  },
  {
   "cell_type": "code",
   "execution_count": 97,
   "metadata": {},
   "outputs": [
    {
     "name": "stdout",
     "output_type": "stream",
     "text": [
      "243/243 [==============================] - 13s 4ms/step - loss: 0.6485 - mean_absolute_error: 0.6485\n"
     ]
    },
    {
     "data": {
      "text/plain": [
       "[0.6485099196434021, 0.6485099196434021]"
      ]
     },
     "execution_count": 97,
     "metadata": {},
     "output_type": "execute_result"
    }
   ],
   "source": [
    "model.evaluate(X_test, Y_test)"
   ]
  },
  {
   "cell_type": "code",
   "execution_count": 98,
   "metadata": {
    "id": "ni1IdIx-UV5e",
    "outputId": "b0485205-b75b-4368-a125-2b050e81faf9"
   },
   "outputs": [
    {
     "name": "stdout",
     "output_type": "stream",
     "text": [
      "INFO:tensorflow:Assets written to: model1_5\\assets\n"
     ]
    }
   ],
   "source": [
    "model.save('model1_5')"
   ]
  },
  {
   "cell_type": "code",
   "execution_count": null,
   "metadata": {},
   "outputs": [],
   "source": []
  }
 ],
 "metadata": {
  "colab": {
   "name": "Model.ipynb",
   "provenance": []
  },
  "interpreter": {
   "hash": "bfc70696e28b1f7d97a8c59e12040c864602fc90b0ede793198864df55d298fd"
  },
  "kernelspec": {
   "display_name": "Python 3 (ipykernel)",
   "language": "python",
   "name": "python3"
  },
  "language_info": {
   "codemirror_mode": {
    "name": "ipython",
    "version": 3
   },
   "file_extension": ".py",
   "mimetype": "text/x-python",
   "name": "python",
   "nbconvert_exporter": "python",
   "pygments_lexer": "ipython3",
   "version": "3.9.12"
  }
 },
 "nbformat": 4,
 "nbformat_minor": 1
}
