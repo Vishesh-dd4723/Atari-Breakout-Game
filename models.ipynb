{
 "cells": [
  {
   "cell_type": "markdown",
   "metadata": {},
   "source": [
    "## Model 1"
   ]
  },
  {
   "cell_type": "code",
   "execution_count": null,
   "metadata": {},
   "outputs": [],
   "source": [
    "import tensorflow as tf\n",
    "from tensorflow.keras.layers import Activation, AveragePooling2D, Conv2D, MaxPooling2D, Input, Flatten, Dense, BatchNormalization\n",
    "from tensorflow.keras.initializers import random_uniform, glorot_uniform\n",
    "from tensorflow.keras.models import Model"
   ]
  },
  {
   "cell_type": "code",
   "execution_count": null,
   "metadata": {},
   "outputs": [],
   "source": [
    "def conv2d_block(X, filters, kernel_size, strides, training=True, initializer=glorot_uniform):\n",
    "    X = Conv2D(filters, kernel_size, strides, kernel_initializer=initializer(seed=0))(X)\n",
    "    X = BatchNormalization(axis=3)(X, training=training)\n",
    "    X = Activation('relu')(X)\n",
    "    return X"
   ]
  },
  {
   "cell_type": "code",
   "execution_count": null,
   "metadata": {},
   "outputs": [],
   "source": [
    "def model1(input_shape=(165, 150, 3), classes=4):\n",
    "    X_input = Input(input_shape)\n",
    "    X = conv2d_block(X_input, 5, 3, (1,1))\n",
    "    # X = conv2d_block(X, 4,3,(1,1))\n",
    "    X = conv2d_block(X, 8,3,(1,1))\n",
    "    # X = conv2d_block(X, 8,3,(2,2))\n",
    "    X = conv2d_block(X, 16,5,(3,3))\n",
    "    X = conv2d_block(X, 16,5,(2,2))\n",
    "    X = AveragePooling2D(pool_size=(2,2))(X)\n",
    "    X = Flatten()(X)\n",
    "    X = Dense(256, activation='relu', kernel_initializer = glorot_uniform(seed=0))(X)\n",
    "    X = Dense(16, activation='relu', kernel_initializer = glorot_uniform(seed=0))(X)\n",
    "    Y = Dense(1, activation='relu', kernel_initializer = glorot_uniform(seed=0))(X)\n",
    "\n",
    "    model = Model(inputs=X_input, outputs=Y)\n",
    "\n",
    "    return model"
   ]
  }
 ],
 "metadata": {
  "interpreter": {
   "hash": "bfc70696e28b1f7d97a8c59e12040c864602fc90b0ede793198864df55d298fd"
  },
  "kernelspec": {
   "display_name": "Python 3.9.12 ('tf_gpu')",
   "language": "python",
   "name": "python3"
  },
  "language_info": {
   "name": "python",
   "version": "3.9.12"
  },
  "orig_nbformat": 4
 },
 "nbformat": 4,
 "nbformat_minor": 2
}
